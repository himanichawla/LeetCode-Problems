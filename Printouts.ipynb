{
 "cells": [
  {
   "cell_type": "markdown",
   "metadata": {},
   "source": [
    "Removing duplicates:\n",
    "method 1: sorting(nlogn) and then iterate(n) => O(nlogn)\n",
    "method 2: hashing => O(n)"
   ]
  },
  {
   "cell_type": "code",
   "execution_count": null,
   "metadata": {},
   "outputs": [],
   "source": [
    "\n",
    "def removeduplicates(str1):\n",
    "    str1 = list(str1)\n",
    "    str1.sort()\n",
    "    res = []\n",
    "    for i in range(len(str1)-1):\n",
    "        if str1[i] != str1[i-1]:\n",
    "            res.append(str1[i])\n",
    "    str2 = \"\".join(res)\n",
    "    return str2"
   ]
  },
  {
   "cell_type": "code",
   "execution_count": 15,
   "metadata": {},
   "outputs": [
    {
     "data": {
      "text/plain": [
       "'abc'"
      ]
     },
     "execution_count": 15,
     "metadata": {},
     "output_type": "execute_result"
    }
   ],
   "source": [
    "removeduplicates(\"aaabbbbccc\")"
   ]
  },
  {
   "cell_type": "code",
   "execution_count": 16,
   "metadata": {},
   "outputs": [],
   "source": [
    "def removeduplicates2(str1):\n",
    "    s = set()\n",
    "    for i in str1:\n",
    "        s.add(i)\n",
    "    res = ''.join(s)\n",
    "    return res\n",
    "    "
   ]
  },
  {
   "cell_type": "code",
   "execution_count": 17,
   "metadata": {
    "scrolled": true
   },
   "outputs": [
    {
     "data": {
      "text/plain": [
       "'sgaifd'"
      ]
     },
     "execution_count": 17,
     "metadata": {},
     "output_type": "execute_result"
    }
   ],
   "source": [
    "removeduplicates2(\"aaaaggggggiiiiifsddsss\")"
   ]
  },
  {
   "cell_type": "markdown",
   "metadata": {},
   "source": [
    "get nth node \n",
    "iterate by keeping track by count and when count =n delete than print the node\n",
    "O(n)"
   ]
  },
  {
   "cell_type": "code",
   "execution_count": 34,
   "metadata": {},
   "outputs": [],
   "source": [
    "# nth node in linkedlist\n",
    "class Node:\n",
    "    def __init__(self,data):\n",
    "        self.data = data\n",
    "        self.next = None\n",
    "class LinkedList:\n",
    "    def __init__(self):\n",
    "        self.head = None\n",
    "    def printList(self):\n",
    "        current = self.head\n",
    "        while(current is not None):\n",
    "            print(current.data)\n",
    "            current= current.next\n",
    "    def nthnode(self,n):\n",
    "        current = self.head\n",
    "        count =0\n",
    "        while(current!=None):\n",
    "            if count == n:\n",
    "                return current.data\n",
    "            else:\n",
    "                current = current.next\n",
    "                count+=1\n",
    "          \n"
   ]
  },
  {
   "cell_type": "markdown",
   "metadata": {},
   "source": []
  },
  {
   "cell_type": "code",
   "execution_count": 37,
   "metadata": {
    "scrolled": false
   },
   "outputs": [
    {
     "name": "stdout",
     "output_type": "stream",
     "text": [
      "1\n",
      "2\n",
      "3\n",
      "4\n",
      "5\n"
     ]
    }
   ],
   "source": [
    "llist = LinkedList()\n",
    "llist.head = Node(1)\n",
    "llist.head.next = Node(2)\n",
    "llist.head.next.next = Node(3)\n",
    "llist.head.next.next.next = Node(4)\n",
    "llist.head.next.next.next.next = Node(5)\n",
    "llist.printList()\n",
    "llist.nthnode(5)\n"
   ]
  },
  {
   "cell_type": "markdown",
   "metadata": {},
   "source": [
    "Given only a pointer to a node to be deleted in a singly linked list, how do you delete it \n",
    "copy content of next node to node and change the next pointer to next of next node\n",
    "O(n)"
   ]
  },
  {
   "cell_type": "code",
   "execution_count": 52,
   "metadata": {},
   "outputs": [],
   "source": [
    "def deletenode(node):\n",
    "    temp = node.next\n",
    "    temp2 = node.next.next\n",
    "    node = temp\n",
    "    node.next = temp2\n",
    "    return node\n",
    "def print_list(head):\n",
    "    current = head\n",
    "    while(current is not None):\n",
    "        print(current.data)\n",
    "        current = current.next\n"
   ]
  },
  {
   "cell_type": "code",
   "execution_count": 54,
   "metadata": {
    "scrolled": false
   },
   "outputs": [
    {
     "name": "stdout",
     "output_type": "stream",
     "text": [
      "2\n",
      "3\n",
      "4\n",
      "5\n"
     ]
    }
   ],
   "source": [
    "llist = LinkedList()\n",
    "llist.head = Node(1)\n",
    "llist.head.next = Node(2)\n",
    "llist.head.next.next = Node(3)\n",
    "llist.head.next.next.next = Node(4)\n",
    "llist.head.next.next.next.next = Node(5)\n",
    "deletenode(llist.head.next)\n",
    "print_list(llist.head.next)"
   ]
  },
  {
   "cell_type": "markdown",
   "metadata": {},
   "source": [
    "Remove character from the first string which are present in second string\n",
    "put one string in hashset and iterate over second check for every character if it is not in set.\n",
    "O(n)"
   ]
  },
  {
   "cell_type": "code",
   "execution_count": 58,
   "metadata": {},
   "outputs": [],
   "source": [
    "def remove_char(str1,str2):\n",
    "    res =[]\n",
    "    s = set()\n",
    "    for i in str2:\n",
    "        s.add(i)\n",
    "    for i in str1:\n",
    "        if i not in s:\n",
    "            res.append(i)\n",
    "    return ''.join(res)\n",
    "        "
   ]
  },
  {
   "cell_type": "code",
   "execution_count": 59,
   "metadata": {},
   "outputs": [
    {
     "data": {
      "text/plain": [
       "'imni'"
      ]
     },
     "execution_count": 59,
     "metadata": {},
     "output_type": "execute_result"
    }
   ],
   "source": [
    "str1 = \"himani\"\n",
    "str2 = \"chawla\"\n",
    "remove_char(str1,str2)"
   ]
  },
  {
   "cell_type": "markdown",
   "metadata": {},
   "source": [
    "A program to check if strings are rotations of each other or not"
   ]
  },
  {
   "cell_type": "code",
   "execution_count": 70,
   "metadata": {},
   "outputs": [],
   "source": [
    "def check_rotations(str1,str2):\n",
    "    merged = str1 + str1\n",
    "    if merged.find(str2) == -1:\n",
    "        return False\n",
    "    else:\n",
    "        return True"
   ]
  },
  {
   "cell_type": "code",
   "execution_count": 72,
   "metadata": {
    "scrolled": true
   },
   "outputs": [
    {
     "data": {
      "text/plain": [
       "True"
      ]
     },
     "execution_count": 72,
     "metadata": {},
     "output_type": "execute_result"
    }
   ],
   "source": [
    "check_rotations(\"ABCD\",\"CDAB\")"
   ]
  },
  {
   "cell_type": "markdown",
   "metadata": {},
   "source": [
    "Next power of 2"
   ]
  },
  {
   "cell_type": "code",
   "execution_count": 78,
   "metadata": {},
   "outputs": [],
   "source": [
    "import math\n",
    "def nextpowerof2(num):\n",
    "    pos = math.ceil(math.log2(num))\n",
    "    return math.pow(2,pos)"
   ]
  },
  {
   "cell_type": "code",
   "execution_count": 79,
   "metadata": {
    "scrolled": true
   },
   "outputs": [
    {
     "data": {
      "text/plain": [
       "32.0"
      ]
     },
     "execution_count": 79,
     "metadata": {},
     "output_type": "execute_result"
    }
   ],
   "source": [
    "nextpowerof2(17)"
   ]
  },
  {
   "cell_type": "markdown",
   "metadata": {},
   "source": [
    "queue using arrays"
   ]
  },
  {
   "cell_type": "code",
   "execution_count": 42,
   "metadata": {},
   "outputs": [],
   "source": [
    "class queue:\n",
    "    def __init__(self,capacity):\n",
    "        self.queue = []\n",
    "        self.top = 0\n",
    "        self.size = 0\n",
    "    def enque(self,x):\n",
    "        self.queue.append(x)\n",
    "        self.size +=1\n",
    "#             self.top +=1\n",
    "\n",
    "    def deque(self):\n",
    "        if(self.size == 0):\n",
    "            return \"Queue is already empty\"\n",
    "        else:\n",
    "            self.queue.pop(0)\n",
    "#             self.top+=1\n",
    "            self.size-=1\n",
    "    def peek(self):\n",
    "        return queue[self.top]\n",
    "    def print_queue(self):\n",
    "#         print (self.size)\n",
    "        for i in self.queue:\n",
    "            print(i)\n",
    "        \n",
    "\n",
    "        "
   ]
  },
  {
   "cell_type": "code",
   "execution_count": 43,
   "metadata": {
    "scrolled": true
   },
   "outputs": [
    {
     "name": "stdout",
     "output_type": "stream",
     "text": [
      "2\n",
      "3\n",
      "4\n"
     ]
    }
   ],
   "source": [
    "q = queue(10)\n",
    "q.enque(1)\n",
    "q.enque(2)\n",
    "q.enque(3)\n",
    "q.enque(4)\n",
    "q.deque()\n",
    "q.print_queue()"
   ]
  },
  {
   "cell_type": "markdown",
   "metadata": {},
   "source": [
    "queue using stacks"
   ]
  },
  {
   "cell_type": "code",
   "execution_count": null,
   "metadata": {},
   "outputs": [],
   "source": [
    "queue using arrays\n",
    "\n",
    "class queue:\n",
    "    def __init__(self,capacity):\n",
    "        self.queue = []\n",
    "        self.top = 0\n",
    "        self.size = 0\n",
    "    def enque(self,x):\n",
    "        self.queue.append(x)\n",
    "        self.size +=1\n",
    "#             self.top +=1\n",
    "\n",
    "    def deque(self):\n",
    "        if(self.size == 0):\n",
    "            return \"Queue is already empty\"\n",
    "        else:\n",
    "            self.queue.pop(0)\n",
    "#             self.top+=1\n",
    "            self.size-=1\n",
    "    def peek(self):\n",
    "        return queue[self.top]\n",
    "    def print_queue(self):\n",
    "#         print (self.size)\n",
    "        for i in self.queue:\n",
    "            print(i)\n",
    "        \n",
    "\n",
    "        \n",
    "\n",
    "q = queue(10)\n",
    "q.enque(1)\n",
    "q.enque(2)\n",
    "q.enque(3)\n",
    "q.enque(4)\n",
    "q.deque()\n",
    "q.print_queue()\n"
   ]
  },
  {
   "cell_type": "markdown",
   "metadata": {},
   "source": [
    "queue using stacks"
   ]
  },
  {
   "cell_type": "code",
   "execution_count": 93,
   "metadata": {},
   "outputs": [],
   "source": [
    "class queue:\n",
    "    def __init__(self):\n",
    "        self.A = []\n",
    "        self.B = []\n",
    "    def enqueue(self,x):\n",
    "        self.A.append(x)\n",
    "    def dequeue(self):\n",
    "        if(len(self.A) ==0 and len(self.B)==0):\n",
    "            return \"Queue is Empty\"\n",
    "        while(len(self.A) >0):\n",
    "            temp = self.A.pop()\n",
    "            self.B.append(temp)\n",
    "        return self.B.pop()\n",
    "    def print_queue(self):\n",
    "        for i in self.A:\n",
    "            self.B.append(self.A.pop())\n",
    "        for i in self.B:\n",
    "            print(i)\n",
    "    "
   ]
  },
  {
   "cell_type": "code",
   "execution_count": 95,
   "metadata": {
    "scrolled": true
   },
   "outputs": [
    {
     "name": "stdout",
     "output_type": "stream",
     "text": [
      "5\n",
      "4\n",
      "3\n",
      "5\n",
      "4\n",
      "3\n",
      "2\n",
      "queue\n",
      "5\n",
      "4\n",
      "3\n",
      "2\n",
      "6\n"
     ]
    }
   ],
   "source": [
    "q1 = queue()\n",
    "q1.enqueue(1)\n",
    "q1.enqueue(2)\n",
    "q1.enqueue(3)\n",
    "q1.enqueue(4)\n",
    "q1.enqueue(5)\n",
    "q1.print_queue()\n",
    "q1.dequeue()\n",
    "q1.print_queue()\n",
    "q1.enqueue(6)\n",
    "print(\"queue\")\n",
    "q1.print_queue()"
   ]
  },
  {
   "cell_type": "code",
   "execution_count": 134,
   "metadata": {},
   "outputs": [],
   "source": [
    "class tree:\n",
    "    def __init__(self,data):\n",
    "        self.data = data\n",
    "        self.left = None\n",
    "        self.right = None\n",
    "def insert(root,node):\n",
    "    if(root == None):\n",
    "        root = node\n",
    "    else:\n",
    "        if root.data > node.data:\n",
    "            if root.left== None:\n",
    "                root.left = node\n",
    "            else:\n",
    "                insert(root.left,node)\n",
    "        else:\n",
    "            if root.right == None:\n",
    "                root.right = node\n",
    "            else:\n",
    "                insert(root.right,node)\n",
    "def inorder(root):\n",
    "    if root:\n",
    "        inorder(root.left)\n",
    "        print(root.data)\n",
    "        inorder(root.right)\n",
    "def minvaluenode(root):\n",
    "    current = root\n",
    "    while current is not None:\n",
    "        current = current.left\n",
    "    return current\n",
    "def deletenode(root,node):\n",
    "    if root == None:\n",
    "        return None\n",
    "    elif (root.data < node):\n",
    "        root.left = deletenode(root.left,node)\n",
    "    elif(root.data > node):\n",
    "        root.right = deletenode(root.right,node)\n",
    "    else:\n",
    "        if root.left is None :\n",
    "            temp = root.right\n",
    "            root = None\n",
    "            return temp\n",
    "        elif root.right is None:\n",
    "            temp = root.left\n",
    "            root =None\n",
    "            return temp\n",
    "        else:\n",
    "            temp = minvaluenode(root.right)\n",
    "            root.data = temp.data\n",
    "            root.right = deletenode(root.right,temp)\n",
    "    return root\n",
    "        \n",
    "            \n",
    "            "
   ]
  },
  {
   "cell_type": "code",
   "execution_count": 135,
   "metadata": {
    "scrolled": true
   },
   "outputs": [
    {
     "name": "stdout",
     "output_type": "stream",
     "text": [
      "10\n",
      "20\n",
      "30\n",
      "40\n",
      "50\n",
      "60\n",
      "70\n",
      "80\n"
     ]
    }
   ],
   "source": [
    "root = tree(10)\n",
    "insert(root, tree(50))\n",
    "insert(root, tree(30))\n",
    "insert(root, tree(20))\n",
    "insert(root, tree(40))\n",
    "insert(root, tree(70))\n",
    "insert(root, tree(60))\n",
    "insert(root, tree(80))\n",
    "deletenode(root, 30)\n",
    "inorder(root)\n"
   ]
  },
  {
   "cell_type": "code",
   "execution_count": 163,
   "metadata": {},
   "outputs": [],
   "source": [
    "class tree:\n",
    "    def __init__(self,data):\n",
    "        self.data = data\n",
    "        self.left = None\n",
    "        self.right = None\n",
    "def storeinorder(root,arr):\n",
    "    if root is None:\n",
    "        return \n",
    "    storeinorder(root.left,arr)\n",
    "    arr.append(root.data)\n",
    "    storeinorder(root.right,arr)\n",
    "def countnodes(root):\n",
    "    if root is None:\n",
    "        return 0\n",
    "    return countnodes(root.left) + countnodes(root.right) +1\n",
    "def arrtoBST(arr):\n",
    "    if not arr:\n",
    "        return\n",
    "    mid = len(arr)//2\n",
    "    root1 = tree(arr[mid])\n",
    "    root1.left = arrtoBST(arr[:mid])\n",
    "    root1.right = arrtoBST(arr[mid+1:])\n",
    "    return root1\n",
    "def binarytoBST(root):\n",
    "    if root is None:\n",
    "        return\n",
    "    arr =[]\n",
    "    storeinorder(root,arr)\n",
    "    print(arr)\n",
    "    arr.sort()\n",
    "#     print (arr)\n",
    "    root1 = arrtoBST(arr)\n",
    " \n",
    "    \n",
    "    "
   ]
  },
  {
   "cell_type": "code",
   "execution_count": 165,
   "metadata": {
    "scrolled": true
   },
   "outputs": [
    {
     "name": "stdout",
     "output_type": "stream",
     "text": [
      "[20, 30, 5, 10, 15]\n",
      "[5, 10, 15, 20, 30]\n",
      "[]\n"
     ]
    }
   ],
   "source": [
    "root = tree(10)\n",
    "root.left= tree(30)\n",
    "root.right =tree(15)\n",
    "root.left.left = tree(20)\n",
    "root.left.right = tree(5)\n",
    "binarytoBST(root)\n",
    "arr1 = []\n",
    "\n",
    "print(arr1)"
   ]
  },
  {
   "cell_type": "markdown",
   "metadata": {},
   "source": [
    "given an integer, return all sequencesof numbers that sum to it(Example -> (1,2),(2,1),(1,1,1))"
   ]
  },
  {
   "cell_type": "code",
   "execution_count": 174,
   "metadata": {},
   "outputs": [],
   "source": [
    "def  printarr(arr,n):\n",
    "    for i in range(0,n):\n",
    "        print (arr[i],end =\" \")\n",
    "    print (\" \")\n",
    "def generateutil(x,arr,curr_sum,curr_idx):\n",
    "    if(x == curr_sum):\n",
    "        printarr(arr,curr_idx)\n",
    "        return\n",
    "    num =1\n",
    "    while(num <= x - curr_sum and (curr_idx ==0 or num <= arr[curr_idx-1])):\n",
    "        arr[curr_idx ] = num\n",
    "        generateutil(x,arr,curr_sum + num, curr_idx+1)\n",
    "        num+=1\n",
    "def generate(x):\n",
    "    arr = [0] * x\n",
    "    generateutil(x,arr,0,0)\n",
    "\n",
    "        "
   ]
  },
  {
   "cell_type": "code",
   "execution_count": 175,
   "metadata": {},
   "outputs": [
    {
     "name": "stdout",
     "output_type": "stream",
     "text": [
      "1 1 1 1 1  \n",
      "2 1 1 1  \n",
      "2 2 1  \n",
      "3 1 1  \n",
      "3 2  \n",
      "4 1  \n",
      "5  \n"
     ]
    }
   ],
   "source": [
    "generate(5)"
   ]
  },
  {
   "cell_type": "markdown",
   "metadata": {},
   "source": [
    "given an expression(in single variable) like 4x +13(x-(4x + x/3)) =9, solve for x"
   ]
  },
  {
   "cell_type": "markdown",
   "metadata": {},
   "source": [
    "push all zeros of a given array to end of array"
   ]
  },
  {
   "cell_type": "code",
   "execution_count": 192,
   "metadata": {},
   "outputs": [],
   "source": [
    "def pushzerotoend(arr):\n",
    "    curr_idx =0\n",
    "    end_idx = len(arr)-1\n",
    "    while(arr[end_idx] ==0 and end_idx > curr_idx):\n",
    "        end_idx -=1\n",
    "    print(end_idx)\n",
    "    while(curr_idx < end_idx):\n",
    "        if arr[curr_idx]==0:\n",
    "            arr[curr_idx],arr[end_idx] = arr[end_idx],arr[curr_idx]\n",
    "            end_idx -=1\n",
    "        curr_idx +=1\n",
    "    return arr\n",
    "        \n",
    "        "
   ]
  },
  {
   "cell_type": "code",
   "execution_count": 355,
   "metadata": {},
   "outputs": [
    {
     "name": "stdout",
     "output_type": "stream",
     "text": [
      "9\n"
     ]
    },
    {
     "data": {
      "text/plain": [
       "[1, 2, 6, 3, 0, 4, 5, 0, 0, 0]"
      ]
     },
     "execution_count": 355,
     "metadata": {},
     "output_type": "execute_result"
    }
   ],
   "source": [
    "arr=[0,2,5,4,0,0,0]\n",
    "arr1 = [1,2,0,3,0,4,5,0,0,6]\n",
    "pushzerotoend(arr1)"
   ]
  },
  {
   "cell_type": "markdown",
   "metadata": {},
   "source": [
    "Given a string consisting of a,b and c's . we can perform the following operation:take any two adjacent distinct characters and replace with third character. . For example, if \"a and \"c are adjacent, they can replaced with \"b\". what is the smallest string which can result by applying this operation repeatedly"
   ]
  },
  {
   "cell_type": "code",
   "execution_count": 223,
   "metadata": {},
   "outputs": [],
   "source": [
    "def stringreduction(str1):\n",
    "    n = len(str1)\n",
    "    dict = {\"a\":0,\"b\":0,\"c\":0}\n",
    "    for char in str1:\n",
    "        dict[char] +=1\n",
    "    if (dict[\"a\"] == n or dict[\"b\"] == n or dict[\"c\"]==n):\n",
    "        return n\n",
    "    elif(dict[\"a\"] %2 ==0 and dict[\"b\"] %2 ==0 and dict[\"c\"] %2 ==0):\n",
    "        return 2\n",
    "    elif(dict[\"a\"] %2 == 1 and dict[\"b\"] %2 ==1 and dict[\"c\"] %2 ==1):\n",
    "        return 2\n",
    "    else:\n",
    "        return 1\n",
    "        "
   ]
  },
  {
   "cell_type": "code",
   "execution_count": 226,
   "metadata": {},
   "outputs": [
    {
     "data": {
      "text/plain": [
       "2"
      ]
     },
     "execution_count": 226,
     "metadata": {},
     "output_type": "execute_result"
    }
   ],
   "source": [
    "stringreduction(\"ccbb\")"
   ]
  },
  {
   "cell_type": "markdown",
   "metadata": {},
   "source": [
    "add two numbers represented by linked list "
   ]
  },
  {
   "cell_type": "code",
   "execution_count": 227,
   "metadata": {},
   "outputs": [],
   "source": [
    "class node:\n",
    "    def __init__(key):\n",
    "        self.data =key\n",
    "        self.next = None\n",
    "class linkedlist:\n",
    "    def __init__():\n",
    "        self.head = None\n"
   ]
  },
  {
   "cell_type": "code",
   "execution_count": null,
   "metadata": {},
   "outputs": [],
   "source": [
    "llist = linkedlist()\n",
    "llist.head = node(5)\n",
    "llist.head.next = node(3)\n",
    "llist.head.next.next"
   ]
  },
  {
   "cell_type": "code",
   "execution_count": 229,
   "metadata": {},
   "outputs": [],
   "source": [
    "def removeelement(arr,elem):\n",
    "    i,j =0,0\n",
    "    while(j< len(arr)):\n",
    "        if arr[j] != elem:\n",
    "            arr[i] = arr[j]\n",
    "            i+=1\n",
    "        j+=1\n",
    "    return i\n",
    "        \n",
    "            \n",
    "    "
   ]
  },
  {
   "cell_type": "code",
   "execution_count": 252,
   "metadata": {},
   "outputs": [],
   "source": [
    "def validpallindrome(str1):\n",
    "    if len(str1)==0:\n",
    "        return False\n",
    "    elif len(str1)==1:\n",
    "        return True\n",
    "    lst =str1.split(\",\")\n",
    "    str1=\"\".join(lst)\n",
    "    lst = str1.split(\":\")\n",
    "    str1=\"\".join(lst)\n",
    "    lst = str1.split(\" \")\n",
    "    str1=\"\".join(lst)\n",
    "    print(str1)\n",
    "    lower = str1.lower()\n",
    "    print(lower)\n",
    "    n = len(lower)\n",
    "    print (n)\n",
    "    for i in range(0,n):\n",
    "        print(lower[i],lower[n-i-1])\n",
    "        if lower[i] != lower[n-i-1]:\n",
    "            return False\n",
    "    return True\n",
    "        \n",
    "        "
   ]
  },
  {
   "cell_type": "code",
   "execution_count": 253,
   "metadata": {
    "scrolled": true
   },
   "outputs": [
    {
     "name": "stdout",
     "output_type": "stream",
     "text": [
      "AmanaplanacanalPanama\n",
      "amanaplanacanalpanama\n",
      "21\n",
      "a a\n",
      "m m\n",
      "a a\n",
      "n n\n",
      "a a\n",
      "p p\n",
      "l l\n",
      "a a\n",
      "n n\n",
      "a a\n",
      "c c\n",
      "a a\n",
      "n n\n",
      "a a\n",
      "l l\n",
      "p p\n",
      "a a\n",
      "n n\n",
      "a a\n",
      "m m\n",
      "a a\n"
     ]
    },
    {
     "data": {
      "text/plain": [
       "True"
      ]
     },
     "execution_count": 253,
     "metadata": {},
     "output_type": "execute_result"
    }
   ],
   "source": [
    "str1= \"A man,a plan,a canal:Panama\"\n",
    "validpallindrome(str1)"
   ]
  },
  {
   "cell_type": "code",
   "execution_count": 268,
   "metadata": {},
   "outputs": [],
   "source": [
    " def getzerooneintervals(arr):\n",
    "        n = len(arr)\n",
    "        count = dict()\n",
    "        curr_sum = 0\n",
    "        for num in arr:\n",
    "            curr_sum += (-1 if num ==0 else num)\n",
    "            if curr_sum in count:\n",
    "                count[curr_sum] +=1\n",
    "            else:\n",
    "                count[curr_sum] =1\n",
    "        count1 =0\n",
    "        print (\"dict\", count)\n",
    "        for itr in count:\n",
    "            if count[itr] > 1:\n",
    "                count1 += (count[itr] * (count[itr]-1))//2\n",
    "            print(\"count\" , count1)\n",
    "        print(\"get\",count.get(0))\n",
    "        if count.get(0):\n",
    "            count1 +=count[0]\n",
    "        return int(count1)\n",
    "                \n",
    "                "
   ]
  },
  {
   "cell_type": "code",
   "execution_count": 269,
   "metadata": {
    "scrolled": false
   },
   "outputs": [
    {
     "name": "stdout",
     "output_type": "stream",
     "text": [
      "dict {1: 2, 0: 3, -1: 2}\n",
      "count 1\n",
      "count 4\n",
      "count 5\n",
      "get 3\n"
     ]
    },
    {
     "data": {
      "text/plain": [
       "8"
      ]
     },
     "execution_count": 269,
     "metadata": {},
     "output_type": "execute_result"
    }
   ],
   "source": [
    "arr = [ 1, 0, 0, 1, 0, 1, 1 ]\n",
    "getzerooneintervals(arr)"
   ]
  },
  {
   "cell_type": "markdown",
   "metadata": {},
   "source": [
    "find missing number in sequence assuming the array is sorted \n"
   ]
  },
  {
   "cell_type": "code",
   "execution_count": 278,
   "metadata": {},
   "outputs": [],
   "source": [
    "def missingnumber(arr):\n",
    "    length = len(arr)\n",
    "    low =0\n",
    "    high = length -1\n",
    "    while(low<high):\n",
    "        mid = (low + high)//2\n",
    "        if(mid-low == arr[mid]-arr[low]):\n",
    "            if(mid+1 < length and arr[mid]+1 != arr[mid +1]):\n",
    "                return arr[mid]+1\n",
    "            else:\n",
    "                low = mid +1\n",
    "        else:\n",
    "            if(mid-1 > -1 and arr[mid]-1 != arr[mid -1]):\n",
    "                return arr[mid]-1\n",
    "            else:\n",
    "                high = mid -1\n",
    "    return null\n",
    "            \n",
    "    \n",
    "  \n",
    "    "
   ]
  },
  {
   "cell_type": "code",
   "execution_count": 279,
   "metadata": {},
   "outputs": [
    {
     "data": {
      "text/plain": [
       "8"
      ]
     },
     "execution_count": 279,
     "metadata": {},
     "output_type": "execute_result"
    }
   ],
   "source": [
    "arr = [2,3,4,5,6,7,9,10,11,12,13]\n",
    "missingnumber(arr)"
   ]
  },
  {
   "cell_type": "markdown",
   "metadata": {},
   "source": [
    "given an array of integers, every element appears twice except for one. find the single one"
   ]
  },
  {
   "cell_type": "code",
   "execution_count": 280,
   "metadata": {},
   "outputs": [],
   "source": [
    "def singlenumber(arr):\n",
    "    x=0\n",
    "    for num in arr:\n",
    "        x = x ^ num\n",
    "    return x"
   ]
  },
  {
   "cell_type": "code",
   "execution_count": 281,
   "metadata": {},
   "outputs": [
    {
     "data": {
      "text/plain": [
       "3"
      ]
     },
     "execution_count": 281,
     "metadata": {},
     "output_type": "execute_result"
    }
   ],
   "source": [
    "arr = [2,2,1,3,1,4,4]\n",
    "singlenumber(arr)"
   ]
  },
  {
   "cell_type": "markdown",
   "metadata": {},
   "source": [
    "FInd duplicate integer in an array"
   ]
  },
  {
   "cell_type": "code",
   "execution_count": 287,
   "metadata": {},
   "outputs": [],
   "source": [
    "def containsduplicates(arr):\n",
    "    d = dict()\n",
    "    duplicates = []\n",
    "    for num in arr:\n",
    "        if num in d:\n",
    "            d[num] +=1\n",
    "        else:\n",
    "            d[num] = 1\n",
    "    for itr in d:\n",
    "        if d[itr] >1:\n",
    "            duplicates.append(itr)\n",
    "    return duplicates"
   ]
  },
  {
   "cell_type": "code",
   "execution_count": 289,
   "metadata": {},
   "outputs": [
    {
     "data": {
      "text/plain": [
       "[]"
      ]
     },
     "execution_count": 289,
     "metadata": {},
     "output_type": "execute_result"
    }
   ],
   "source": [
    "arr = [1,2,3,4,5,7,8,9,6]\n",
    "containsduplicates(arr)"
   ]
  },
  {
   "cell_type": "code",
   "execution_count": 339,
   "metadata": {},
   "outputs": [],
   "source": [
    "def countandsay(n):\n",
    "    if n<=0:\n",
    "        return None\n",
    "    result = \"1\"\n",
    "    i=1\n",
    "    while(i<n):\n",
    "        print(\"entering\")\n",
    "        sb =\"\"\n",
    "        count =1\n",
    "        for j in range(1,len(result)):\n",
    "            print(\"entering second loop\")\n",
    "            print (result[j-1], result[j])\n",
    "            if result[j]== result[j-1]:\n",
    "                count+=1\n",
    "            else:\n",
    "                sb += str(count) + result[j-1]\n",
    "                count=1\n",
    "        print(\"sb before\", sb)\n",
    "        sb += str(count)+ result[len(result)-1]\n",
    "        print(\"sb after\", sb)\n",
    "        result = sb\n",
    "        print (\"result\", result)\n",
    "        i+=1\n",
    "    return sb\n",
    "            \n",
    "    \n",
    "    \n",
    "        "
   ]
  },
  {
   "cell_type": "code",
   "execution_count": 341,
   "metadata": {},
   "outputs": [
    {
     "name": "stdout",
     "output_type": "stream",
     "text": [
      "entering\n",
      "sb before \n",
      "sb after 11\n",
      "result 11\n",
      "entering\n",
      "entering second loop\n",
      "1 1\n",
      "sb before \n",
      "sb after 21\n",
      "result 21\n",
      "entering\n",
      "entering second loop\n",
      "2 1\n",
      "sb before 12\n",
      "sb after 1211\n",
      "result 1211\n"
     ]
    },
    {
     "data": {
      "text/plain": [
       "'1211'"
      ]
     },
     "execution_count": 341,
     "metadata": {},
     "output_type": "execute_result"
    }
   ],
   "source": [
    "countandsay(4)"
   ]
  },
  {
   "cell_type": "code",
   "execution_count": 323,
   "metadata": {},
   "outputs": [],
   "source": [
    "def looksay(n):\n",
    "    look = \" \"\n",
    "    prev, count, say = look[0], 1, ''\n",
    "    i =1\n",
    "    while(i<n):\n",
    "        for char in look[1:]:\n",
    "            if char == prev:\n",
    "                count += 1\n",
    "                continue\n",
    "            say += str(count) + prev\n",
    "            prev = char\n",
    "            count = 1\n",
    "        look = say + str(count) + prev\n",
    "        i+=1\n",
    "    return look"
   ]
  },
  {
   "cell_type": "code",
   "execution_count": 325,
   "metadata": {},
   "outputs": [
    {
     "data": {
      "text/plain": [
       "'1 '"
      ]
     },
     "execution_count": 325,
     "metadata": {},
     "output_type": "execute_result"
    }
   ],
   "source": [
    "looksay(2)"
   ]
  },
  {
   "cell_type": "markdown",
   "metadata": {},
   "source": [
    "compare version number, if v1 > v2 return 1 if v1< v2 return -1 else return 0"
   ]
  },
  {
   "cell_type": "code",
   "execution_count": 346,
   "metadata": {},
   "outputs": [],
   "source": [
    "def compareversion(str1,str2):\n",
    "    arr1 = str1.split(\".\")\n",
    "    arr2 = str2.split(\".\")\n",
    "    if arr1[0] > arr2[0]:\n",
    "        return 1\n",
    "    elif arr1[0] < arr2[0]:\n",
    "        return -1\n",
    "    else:\n",
    "        if arr1[1] > arr2[1]:\n",
    "            return 1\n",
    "        elif arr1[1] < arr2[1]:\n",
    "            return -1\n",
    "        else:\n",
    "            return 0\n",
    "\n",
    "    "
   ]
  },
  {
   "cell_type": "code",
   "execution_count": 351,
   "metadata": {},
   "outputs": [
    {
     "data": {
      "text/plain": [
       "1"
      ]
     },
     "execution_count": 351,
     "metadata": {},
     "output_type": "execute_result"
    }
   ],
   "source": [
    "compareversion(\"1.0\",\"1.\")"
   ]
  },
  {
   "cell_type": "markdown",
   "metadata": {},
   "source": [
    "erase all zeros and condense array"
   ]
  },
  {
   "cell_type": "code",
   "execution_count": 370,
   "metadata": {},
   "outputs": [],
   "source": [
    "def condense(arr):\n",
    "    n = len(arr)\n",
    "    count =0\n",
    "    for i in range(n):\n",
    "        if (arr[i] !=0):\n",
    "            arr[count] = arr[i]\n",
    "            count+=1\n",
    "    diff = n- count\n",
    "    while(diff!=0):\n",
    "        arr.pop(len(arr)-1)\n",
    "        diff -=1\n",
    "\n",
    "    return arr\n",
    "    \n",
    "            \n",
    "    \n",
    "   \n",
    "    "
   ]
  },
  {
   "cell_type": "code",
   "execution_count": 371,
   "metadata": {
    "scrolled": true
   },
   "outputs": [
    {
     "data": {
      "text/plain": [
       "[1, 2, 3, 4, 5, 6]"
      ]
     },
     "execution_count": 371,
     "metadata": {},
     "output_type": "execute_result"
    }
   ],
   "source": [
    "arr = [1,2,0,3,0,4,5,0,0,6]\n",
    "condense(arr)"
   ]
  },
  {
   "cell_type": "markdown",
   "metadata": {},
   "source": [
    "There are N children standing in a line. Each chils is assigned a rating value. You are giving candies to these children subjected to the following requirements:\n",
    "1. Each child must have at least one candy\n",
    "2. children with a higher rating get more candies than their neighbors"
   ]
  },
  {
   "cell_type": "code",
   "execution_count": 380,
   "metadata": {},
   "outputs": [],
   "source": [
    "def candy(rating):\n",
    "    sum = 0\n",
    "    if (len(rating)==0):\n",
    "        return 0\n",
    "    lc = [1] * len(rating)\n",
    "    rc = [1] * len(rating)\n",
    "    for i in range(len(rating)-1):\n",
    "        if rating[i] < rating[i+1]:\n",
    "            lc[i+1] = lc[i] + 1\n",
    "    for i in range(len(rating)-1,0,-1):\n",
    "        if rating[i] < rating[i-1]:\n",
    "            rc[i-1] = rc[i] + 1\n",
    "    for i in range(len(rating)):\n",
    "        sum += max(lc[i],rc[i])\n",
    "    return sum\n",
    "            \n",
    "            "
   ]
  },
  {
   "cell_type": "code",
   "execution_count": 381,
   "metadata": {
    "scrolled": false
   },
   "outputs": [
    {
     "data": {
      "text/plain": [
       "21"
      ]
     },
     "execution_count": 381,
     "metadata": {},
     "output_type": "execute_result"
    }
   ],
   "source": [
    "rating = [1,2,3,4,5,6]\n",
    "candy(rating)"
   ]
  },
  {
   "cell_type": "markdown",
   "metadata": {},
   "source": [
    "Given an array S of n integers, find three integers in S such that the sum is closet to a given number,target. Return the sum of three integers."
   ]
  },
  {
   "cell_type": "code",
   "execution_count": 397,
   "metadata": {},
   "outputs": [],
   "source": [
    "import sys\n",
    "def threesumclosest(nums,target):\n",
    "    \n",
    "#     max = sys.maxsize\n",
    "    min_value = sys.maxsize\n",
    "    result = 0\n",
    "    nums.sort()\n",
    "    for i in range(len(nums)-1):\n",
    "        j = i+1\n",
    "        k = len(nums)-1\n",
    "        while(j<k):\n",
    "            res =nums[i] + nums[j] + nums[k]\n",
    "            diff = abs(res -target)\n",
    "            if (diff < min_value):\n",
    "                min_value = diff\n",
    "                result = res\n",
    "            if(res<=target):\n",
    "                j+=1\n",
    "            else:\n",
    "                k-=1\n",
    "        return result\n",
    "        \n",
    "    \n"
   ]
  },
  {
   "cell_type": "code",
   "execution_count": 399,
   "metadata": {
    "scrolled": true
   },
   "outputs": [
    {
     "data": {
      "text/plain": [
       "12"
      ]
     },
     "execution_count": 399,
     "metadata": {},
     "output_type": "execute_result"
    }
   ],
   "source": [
    "nums = [3,4,1,2,5,6]\n",
    "threesumclosest(nums,20)"
   ]
  },
  {
   "cell_type": "markdown",
   "metadata": {},
   "source": [
    "Given an array S of n integers ,are there elments a,b,c in S such that a + b + c =0"
   ]
  },
  {
   "cell_type": "code",
   "execution_count": 411,
   "metadata": {},
   "outputs": [],
   "source": [
    "def threesum(nums):\n",
    "    nums.sort()\n",
    "    print(nums)\n",
    "    result =0\n",
    "    for i in range(len(nums)-1):\n",
    "        j = i+1\n",
    "        k = len(nums)-1\n",
    "        while(j<k):\n",
    "            res = nums[i] + nums[j] + nums[k]\n",
    "            if(res == 0):\n",
    "                return nums[i],nums[j],nums[k]\n",
    "            elif(res < 0):\n",
    "                j +=1\n",
    "            else:\n",
    "                k-=1\n",
    "    return None"
   ]
  },
  {
   "cell_type": "code",
   "execution_count": 417,
   "metadata": {},
   "outputs": [
    {
     "name": "stdout",
     "output_type": "stream",
     "text": [
      "[-12, -9, -5, 0, 1, 3, 7]\n"
     ]
    }
   ],
   "source": [
    "nums = [-12,-9,3 ,0,1,-5,7]\n",
    "threesum(nums)"
   ]
  },
  {
   "cell_type": "markdown",
   "metadata": {},
   "source": [
    "Two non repeating numbers in an array"
   ]
  },
  {
   "cell_type": "code",
   "execution_count": 439,
   "metadata": {},
   "outputs": [],
   "source": [
    "def nonrepeating(arr):\n",
    "    xor = arr[0]\n",
    "    x,y,n = 0,0,len(arr)-1\n",
    "    for num in arr:\n",
    "        xor ^=num\n",
    "    set_bit = xor & ~(xor-1)\n",
    "    for num in arr:\n",
    "        if((num & set_bit)!=0):\n",
    "            print(num)\n",
    "            x^=num\n",
    "        else:\n",
    "            print(\"2\",num)\n",
    "            y^=num\n",
    "    return x,y"
   ]
  },
  {
   "cell_type": "code",
   "execution_count": 442,
   "metadata": {},
   "outputs": [
    {
     "name": "stdout",
     "output_type": "stream",
     "text": [
      "2 2\n",
      "3\n",
      "2 12\n",
      "9\n",
      "11\n",
      "2 2\n",
      "3\n",
      "11\n",
      "9\n",
      "1\n"
     ]
    },
    {
     "data": {
      "text/plain": [
       "(1, 12)"
      ]
     },
     "execution_count": 442,
     "metadata": {},
     "output_type": "execute_result"
    }
   ],
   "source": [
    "arr = [2, 3, 12, 9, 11, 2, 3, 11,9,1]\n",
    "nonrepeating(arr)"
   ]
  },
  {
   "cell_type": "code",
   "execution_count": 444,
   "metadata": {
    "scrolled": true
   },
   "outputs": [
    {
     "data": {
      "text/plain": [
       "4"
      ]
     },
     "execution_count": 444,
     "metadata": {},
     "output_type": "execute_result"
    }
   ],
   "source": [
    "num = 1\n",
    "num <<2"
   ]
  },
  {
   "cell_type": "markdown",
   "metadata": {},
   "source": [
    "get bit i for a given number"
   ]
  },
  {
   "cell_type": "code",
   "execution_count": 445,
   "metadata": {},
   "outputs": [],
   "source": [
    "def getbit(num,i):\n",
    "    result = num &(1<<i)\n",
    "    if result ==0:\n",
    "        return 0\n",
    "    else:\n",
    "        return 1"
   ]
  },
  {
   "cell_type": "code",
   "execution_count": 448,
   "metadata": {},
   "outputs": [
    {
     "data": {
      "text/plain": [
       "0"
      ]
     },
     "execution_count": 448,
     "metadata": {},
     "output_type": "execute_result"
    }
   ],
   "source": [
    "getbit(4,4)"
   ]
  },
  {
   "cell_type": "markdown",
   "metadata": {},
   "source": [
    "get maximum binary gap . for example 9's binary is 1001 so the gap is 2"
   ]
  },
  {
   "cell_type": "code",
   "execution_count": 457,
   "metadata": {},
   "outputs": [],
   "source": [
    "def maximumbinarygap(num):\n",
    "    maxm = 0\n",
    "    count =-1\n",
    "    r =0\n",
    "    while(num > 0):\n",
    "        r = num & 1\n",
    "        num = num >> 1\n",
    "        print(\"r and num\", r,num)\n",
    "        if(r==0 and count >=0):\n",
    "            count+=1\n",
    "        if(r==1):\n",
    "            maxm = count if( count >maxm ) else maxm\n",
    "            count =0\n",
    "        print(\"count\",count)\n",
    "    return maxm"
   ]
  },
  {
   "cell_type": "code",
   "execution_count": 458,
   "metadata": {
    "scrolled": true
   },
   "outputs": [
    {
     "name": "stdout",
     "output_type": "stream",
     "text": [
      "r and num 1 4\n",
      "count 0\n",
      "r and num 0 2\n",
      "count 1\n",
      "r and num 0 1\n",
      "count 2\n",
      "r and num 1 0\n",
      "count 0\n"
     ]
    },
    {
     "data": {
      "text/plain": [
       "2"
      ]
     },
     "execution_count": 458,
     "metadata": {},
     "output_type": "execute_result"
    }
   ],
   "source": [
    "maximumbinarygap(9)"
   ]
  },
  {
   "cell_type": "markdown",
   "metadata": {},
   "source": [
    "Given an array S of n integers ,are there elments a,b,c,d in S such that a + b + c +d = target"
   ]
  },
  {
   "cell_type": "markdown",
   "metadata": {},
   "source": [
    "Given an array of words and a length L, format the text such that each line has exactly L characters and is fully (left and right) justified.\n",
    "You should pack your words in a greedy approach; that is, pack as many words as you can in each line."
   ]
  },
  {
   "cell_type": "code",
   "execution_count": 498,
   "metadata": {},
   "outputs": [],
   "source": [
    "def JustifiedText(words,L):\n",
    "    d= dict()\n",
    "    i =0\n",
    "    count =0\n",
    "    for word in words:\n",
    "        count += len(word)\n",
    "        if (count < L):\n",
    "            if i in d:\n",
    "                d[i].append(word)\n",
    "            else:\n",
    "                d[i] = [word]\n",
    "                \n",
    "            \n",
    "        else:\n",
    "            i+=1\n",
    "            d[i] = [word]\n",
    "            count = len(word)\n",
    "    return list(d.values())\n"
   ]
  },
  {
   "cell_type": "code",
   "execution_count": 499,
   "metadata": {},
   "outputs": [
    {
     "data": {
      "text/plain": [
       "[['This', 'is', 'an', 'example'], ['of', 'text'], ['justification.']]"
      ]
     },
     "execution_count": 499,
     "metadata": {},
     "output_type": "execute_result"
    }
   ],
   "source": [
    "words = [\"This\", \"is\", \"an\", \"example\", \"of\", \"text\", \"justification.\"]\n",
    "L= 16\n",
    "JustifiedText(words,L)"
   ]
  }
 ],
 "metadata": {
  "kernelspec": {
   "display_name": "Python 3",
   "language": "python",
   "name": "python3"
  },
  "language_info": {
   "codemirror_mode": {
    "name": "ipython",
    "version": 3
   },
   "file_extension": ".py",
   "mimetype": "text/x-python",
   "name": "python",
   "nbconvert_exporter": "python",
   "pygments_lexer": "ipython3",
   "version": "3.6.4"
  }
 },
 "nbformat": 4,
 "nbformat_minor": 2
}
