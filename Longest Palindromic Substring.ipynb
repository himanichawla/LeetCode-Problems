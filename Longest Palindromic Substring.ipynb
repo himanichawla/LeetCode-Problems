{
 "cells": [
  {
   "cell_type": "code",
   "execution_count": 115,
   "metadata": {},
   "outputs": [],
   "source": [
    "class Solution(object):\n",
    "    def longestPalindrome(self, s):\n",
    "        length = len(s)\n",
    "        table = [[0 for i in range(length)] for i in range(length)]\n",
    "        # every single character is pallindrome\n",
    "        maxlength =1\n",
    "        for i in range(length):\n",
    "            table[i][i] =1\n",
    "            longstr = s[i]\n",
    "        # for pallindrome of length 2\n",
    "        start =0\n",
    "        maxlength = 2\n",
    "        for i in range(length-1):\n",
    "            if(s[i]==s[i+1]):\n",
    "                table[i][i+1]=1\n",
    "                start = i\n",
    "#                 print(\"start\",start)\n",
    "#             print(\"start\",start)\n",
    "        longstr = s[start:start+2]\n",
    "#         print(\"ls\"+ longstr)\n",
    "        # for whole table\n",
    "        maxlength = 3\n",
    "        for k in range(3,length+1):\n",
    "            for i in range(0,length-k+1):\n",
    "#                 print(\"entering loop\")\n",
    "                j = k+i-1\n",
    "                print(\"table\",table)\n",
    "                if(table[i-1][j-1] and s[i]==s[j]):\n",
    "#                     print(s[i])\n",
    "                    table[i][j]=1\n",
    "                    print(\"k\",k)\n",
    "                    if(k >  maxlength):\n",
    "                        maxlength = k\n",
    "                        start = i\n",
    "                        longstr = s[start:start+maxlength-1]\n",
    "#         print (longstr)\n",
    "        return longstr\n",
    "     \n",
    "                    \n",
    "                \n",
    "        \n",
    "        "
   ]
  },
  {
   "cell_type": "code",
   "execution_count": 116,
   "metadata": {
    "scrolled": true
   },
   "outputs": [
    {
     "name": "stdout",
     "output_type": "stream",
     "text": [
      "table [[1, 1, 0], [0, 1, 1], [0, 0, 1]]\n"
     ]
    },
    {
     "data": {
      "text/plain": [
       "'cc'"
      ]
     },
     "execution_count": 116,
     "metadata": {},
     "output_type": "execute_result"
    }
   ],
   "source": [
    "sol = Solution()\n",
    "sol.longestPalindrome(\"ccc\")\n"
   ]
  },
  {
   "cell_type": "code",
   "execution_count": 34,
   "metadata": {},
   "outputs": [
    {
     "name": "stdout",
     "output_type": "stream",
     "text": [
      "bb\n"
     ]
    }
   ],
   "source": [
    "str = \"cbbd\"\n",
    "new_str = str[1:3]\n",
    "print (new_str)"
   ]
  }
 ],
 "metadata": {
  "kernelspec": {
   "display_name": "Python 3",
   "language": "python",
   "name": "python3"
  },
  "language_info": {
   "codemirror_mode": {
    "name": "ipython",
    "version": 3
   },
   "file_extension": ".py",
   "mimetype": "text/x-python",
   "name": "python",
   "nbconvert_exporter": "python",
   "pygments_lexer": "ipython3",
   "version": "3.6.4"
  }
 },
 "nbformat": 4,
 "nbformat_minor": 2
}
