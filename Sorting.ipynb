{
 "cells": [
  {
   "cell_type": "code",
   "execution_count": 50,
   "metadata": {},
   "outputs": [],
   "source": [
    "def Selection_sort(arr):\n",
    "    for i in range(len(arr)):\n",
    "        min_idx = i\n",
    "        temp =0\n",
    "        for j in range(i+1,len(arr)):\n",
    "            if(arr[j] < arr[min_idx]):\n",
    "                min_idx = j\n",
    "                \n",
    "        temp = arr[i]\n",
    "        arr[i] = arr[min_idx]\n",
    "        arr[min_idx]= temp\n",
    "    return arr\n",
    "                \n",
    "        \n",
    "            \n",
    "            \n",
    "    "
   ]
  },
  {
   "cell_type": "code",
   "execution_count": null,
   "metadata": {},
   "outputs": [],
   "source": []
  },
  {
   "cell_type": "code",
   "execution_count": 51,
   "metadata": {},
   "outputs": [],
   "source": [
    "def Bubble_sort(arr):\n",
    "    n = len(arr)\n",
    "    for i in range(n):\n",
    "        for j in range(0,n-i-1):\n",
    "            if(arr[j] > arr[j+1]):\n",
    "                arr[j],arr[j+1]= arr[j+1],arr[j]\n",
    "    return arr"
   ]
  },
  {
   "cell_type": "code",
   "execution_count": 52,
   "metadata": {},
   "outputs": [],
   "source": [
    "def Insertion_sort(arr):\n",
    "    n = len(arr)\n",
    "    for i in range(1,n):\n",
    "        for j in range(0,i-1):\n",
    "            print(arr[j])\n",
    "            if(arr[i]<arr[j]):\n",
    "                arr[i],arr[j]= arr[j],arr[i]\n",
    "    return arr\n",
    "                "
   ]
  },
  {
   "cell_type": "code",
   "execution_count": 79,
   "metadata": {},
   "outputs": [],
   "source": [
    "def partition(arr,low,high):\n",
    "    pivot = arr[high]\n",
    "    i = low-1\n",
    "    for j in range(low,high):\n",
    "        if(arr[j]<=pivot):\n",
    "            \n",
    "            i+=1\n",
    "            print(\"i,j\",i,j)\n",
    "            arr[i],arr[j]=arr[j],arr[i]\n",
    "            print (arr)\n",
    "    arr[i+1],arr[high] = arr[high],arr[i+1]\n",
    "    return (i+1)\n",
    "# def partition2(arr,low,high):\n",
    "#     pivot= arr[low]\n",
    "#     i = low-1\n",
    "#     for j in range(len(arr)-1):\n",
    "#         if(arr[j]<=pivot):\n",
    "#             i+=1\n",
    "#             arr[i],arr[j]=arr[j],arr[i]\n",
    "#     arr[i],arr[0] = arr[0],arr[i]\n",
    "#     return (i+1)\n",
    "# def partition2(arr,low,high):\n",
    "#     left,right,pivot = low,high,arr[low]\n",
    "#     print(\"index\",left,right,pivot)\n",
    "#     while (left < right):\n",
    "#         while(arr[left]<pivot):\n",
    "#             left+=1\n",
    "#             print(\"left\",left)\n",
    "#         while(arr[right]> pivot):\n",
    "#             right-=1\n",
    "#             print(\"right\",right)\n",
    "#         if(left<right):\n",
    "#             arr[left],arr[right] = arr[right],arr[left]\n",
    "#     arr[low]= arr[right]\n",
    "#     arr[right] = pivot\n",
    "#     return right\n",
    "def quicksort(arr,low,high):\n",
    "    if(low<high):\n",
    "        pi = partition(arr,low,high)\n",
    "        print (\"pi\",pi ,low,high)\n",
    "        quicksort(arr,low,pi-1)\n",
    "        quicksort(arr,pi+1,high)\n",
    "    return arr\n",
    "    \n",
    "    "
   ]
  },
  {
   "cell_type": "code",
   "execution_count": 80,
   "metadata": {},
   "outputs": [
    {
     "name": "stdout",
     "output_type": "stream",
     "text": [
      "pi 0 0 4\n",
      "i,j 1 1\n",
      "[11, 25, 12, 22, 64]\n",
      "i,j 2 2\n",
      "[11, 25, 12, 22, 64]\n",
      "i,j 3 3\n",
      "[11, 25, 12, 22, 64]\n",
      "pi 4 1 4\n",
      "i,j 1 2\n",
      "[11, 12, 25, 22, 64]\n",
      "pi 2 1 3\n"
     ]
    },
    {
     "data": {
      "text/plain": [
       "[11, 12, 22, 25, 64]"
      ]
     },
     "execution_count": 80,
     "metadata": {},
     "output_type": "execute_result"
    }
   ],
   "source": [
    "arr = [64, 25, 12, 22, 11]\n",
    "quicksort(arr,0,len(arr)-1)"
   ]
  },
  {
   "cell_type": "code",
   "execution_count": 5,
   "metadata": {},
   "outputs": [],
   "source": [
    "def merge(arr,l,m,r):\n",
    "    n1 = m-l+1\n",
    "    n2 = r-m\n",
    "    print (\"l,m,r\", l,m,r)\n",
    "    L = [0] * (n1)\n",
    "    R = [0] * (n2)\n",
    "    \n",
    "    for i in range(n1):\n",
    "        L[i] = arr[l+i]\n",
    "    for j in range(n2):\n",
    "        R[j] = arr[m +1 +j]\n",
    "    print(\"L\", L,\"R\",R)\n",
    "    i,j,k=0,0,l\n",
    "    while (i<n1 and j<n2):\n",
    "        if(L[i]<R[j]):\n",
    "            arr[k] = L[i]\n",
    "            i+=1\n",
    "        else:\n",
    "            arr[k] = R[j]\n",
    "            j+=1\n",
    "        k+=1\n",
    "    while i<n1:\n",
    "        arr[k] = L[i]\n",
    "        i+=1\n",
    "        k+=1\n",
    "    while j<n2:\n",
    "        arr[k] = R[j]\n",
    "        j+=1\n",
    "        k+=1\n",
    "    return arr\n",
    "    \n",
    "def mergesort(arr,l,r):\n",
    "    if(r>l):\n",
    "        \n",
    "        m = (l+(r))//2\n",
    "        print (\"middle \" , m, arr[m])\n",
    "        mergesort(arr,l,m)\n",
    "        mergesort(arr,m+1,r)\n",
    "        merge(arr,l,m,r)\n",
    "    return arr\n",
    "    \n",
    "    "
   ]
  },
  {
   "cell_type": "code",
   "execution_count": 6,
   "metadata": {},
   "outputs": [],
   "source": [
    "def heapify(arr,n,i):\n",
    "    largest = i\n",
    "    left = 2*i+1\n",
    "    right = 2*i +2\n",
    "    if (left < n and arr[i] < arr[left]):\n",
    "        largest = left\n",
    "    if(right < n and arr[i] < arr[right]):\n",
    "        largest = right \n",
    "    if largest != i:\n",
    "        arr[i],arr[largest]= arr[largest],arr[i]\n",
    "        heapify(arr,n,largest)\n",
    "def heapsort(arr):\n",
    "    n= len(arr)\n",
    "    for i in range(n,-1,-1):\n",
    "        heapify(arr,n,i)\n",
    "    for i in range(n-1,0,-1):\n",
    "        arr[i], arr[0] = arr[0], arr[i]   # swap\n",
    "        heapify(arr, i, 0)\n",
    "    return arr\n",
    " \n",
    "    \n",
    "    "
   ]
  },
  {
   "cell_type": "raw",
   "metadata": {},
   "source": []
  },
  {
   "cell_type": "code",
   "execution_count": 7,
   "metadata": {},
   "outputs": [
    {
     "name": "stdout",
     "output_type": "stream",
     "text": [
      "5\n"
     ]
    },
    {
     "data": {
      "text/plain": [
       "[11, 22, 25, 12, 64]"
      ]
     },
     "execution_count": 7,
     "metadata": {},
     "output_type": "execute_result"
    }
   ],
   "source": [
    "arr = [64, 25, 12, 22, 11]\n",
    "# Selection_sort(arr)\n",
    "# Bubble_sort(arr)\n",
    "# Insertion_sort(arr)\n",
    "n = len(arr)\n",
    "print (n)\n",
    "# quicksort(arr,0,n-1)\n",
    "# mergesort(arr,0,n-1)\n",
    "heapsort(arr)"
   ]
  },
  {
   "cell_type": "code",
   "execution_count": 8,
   "metadata": {},
   "outputs": [],
   "source": [
    "def sorted_merge(A,B,n,m):\n",
    "    i =n-1\n",
    "    j=m-1\n",
    "    lastindex = n+m-1\n",
    "    while(j>=0):\n",
    "        if(i>=0 and A[i] > B[j]):\n",
    "            A[lastindex] = A[i]\n",
    "            i-=1\n",
    "        else:\n",
    "            A[lastindex] = B[j]\n",
    "            j-=1\n",
    "        lastindex-=1\n",
    "    return A\n",
    "        \n",
    "    \n",
    "    "
   ]
  },
  {
   "cell_type": "code",
   "execution_count": 9,
   "metadata": {},
   "outputs": [
    {
     "data": {
      "text/plain": [
       "[10, 12, 13, 14, 16, 17, 18, 19, 20, 22]"
      ]
     },
     "execution_count": 9,
     "metadata": {},
     "output_type": "execute_result"
    }
   ],
   "source": [
    "A = [10, 12, 13, 14, 18, 0, 0, 0, 0, 0]\n",
    "n = 5\n",
    "B = [16, 17, 19, 20, 22]\n",
    "m = 5\n",
    "sorted_merge(A,B,n,m)"
   ]
  },
  {
   "cell_type": "code",
   "execution_count": 10,
   "metadata": {},
   "outputs": [],
   "source": [
    "def group_anagrams(arr):\n",
    "    d = {}\n",
    "    for s in arr:\n",
    "        sorted_key = ''.join(sorted(s))\n",
    "        if sorted_key in d:\n",
    "            d[sorted_key].append(s)\n",
    "        else:\n",
    "            d[sorted_key] = [s]\n",
    "    return list(d.values())\n",
    "    \n",
    "    "
   ]
  },
  {
   "cell_type": "code",
   "execution_count": 11,
   "metadata": {},
   "outputs": [
    {
     "data": {
      "text/plain": [
       "[['word', 'ordw'], ['goat', 'oagt']]"
      ]
     },
     "execution_count": 11,
     "metadata": {},
     "output_type": "execute_result"
    }
   ],
   "source": [
    "arr = [\"word\",\"goat\",\"ordw\",\"oagt\"]\n",
    "group_anagrams(arr)\n"
   ]
  },
  {
   "cell_type": "code",
   "execution_count": 12,
   "metadata": {},
   "outputs": [],
   "source": [
    "def search_in_rotated_array(arr,left,right,x):\n",
    "    mid = (left + right)//2\n",
    "    if(arr[mid]==x):\n",
    "        return mid\n",
    "    elif(arr[left]< arr[mid]): #left is normally ordered\n",
    "        if(x>arr[left] and x<arr[mid]):\n",
    "            return search_in_rotated_array(arr,left,mid-1,x)\n",
    "        else:\n",
    "            return search_in_rotated_array(arr,mid+1,right,x)\n",
    "    else:\n",
    "        if(x>arr[mid] and x<arr[right]):\n",
    "            return search_in_rotated_array(arr,mid+1,right,x)\n",
    "        else:\n",
    "            return search_in_rotated_array(arr,left,mid-1,x)\n",
    "            \n",
    "            \n",
    "        \n",
    "    "
   ]
  },
  {
   "cell_type": "code",
   "execution_count": 13,
   "metadata": {},
   "outputs": [
    {
     "data": {
      "text/plain": [
       "8"
      ]
     },
     "execution_count": 13,
     "metadata": {},
     "output_type": "execute_result"
    }
   ],
   "source": [
    "arr = [15, 16, 19, 20, 25, 1, 3,4,5,7,10, 14]\n",
    "left = 0\n",
    "right = len(arr)-1\n",
    "x = 5\n",
    "search_in_rotated_array(arr,left,right,x)"
   ]
  },
  {
   "cell_type": "code",
   "execution_count": 14,
   "metadata": {},
   "outputs": [],
   "source": [
    "def sparse_search(arr,str,low,high):\n",
    "    mid = (low +high)//2\n",
    "    s= arr[mid]\n",
    "    if (s==\" \"):\n",
    "        left = mid-1 \n",
    "        right = mid +1\n",
    "        while True:\n",
    "            if(left< low and right > high):\n",
    "                return -1\n",
    "            elif(left > low and arr[left]!= \" \"):\n",
    "                mid = left\n",
    "                break\n",
    "            elif(right < high and arr[right] != \" \"):\n",
    "                mid = right\n",
    "                break\n",
    "            left -=1\n",
    "            right +=1\n",
    "    if(arr[mid] == str):\n",
    "        return mid\n",
    "    elif(arr[mid] > str):\n",
    "        \n",
    "        return sparse_search(arr,str,low,mid-1)\n",
    "    else:\n",
    "       \n",
    "        return sparse_search(arr,str,mid+1,high)\n",
    "        \n",
    "\n",
    "            \n",
    "            \n",
    "    "
   ]
  },
  {
   "cell_type": "code",
   "execution_count": 15,
   "metadata": {
    "scrolled": true
   },
   "outputs": [
    {
     "data": {
      "text/plain": [
       "4"
      ]
     },
     "execution_count": 15,
     "metadata": {},
     "output_type": "execute_result"
    }
   ],
   "source": [
    "arr = [\"at\",\" \",\" \",\" \",\"ball\",\" \",\" \",\"car\",\" \",\" \",\"dad\",\" \",\" \"]\n",
    "sparse_search(arr ,\"ball\",0,len(arr)-1)\n"
   ]
  },
  {
   "cell_type": "code",
   "execution_count": 1,
   "metadata": {},
   "outputs": [],
   "source": [
    "def Sorted_Matrix_Search(matrix, elem):\n",
    "    row,total_row,col = 0,len(matrix)-1,len(matrix[0])-1\n",
    "    while(row < total_row and col >0):\n",
    "        if(matrix[row][col]==elem):\n",
    "            return row, col\n",
    "        elif(matrix[row][col] < elem):\n",
    "            row+=1\n",
    "        else:\n",
    "            col-=1\n",
    "    "
   ]
  },
  {
   "cell_type": "code",
   "execution_count": 2,
   "metadata": {},
   "outputs": [
    {
     "data": {
      "text/plain": [
       "(0, 2)"
      ]
     },
     "execution_count": 2,
     "metadata": {},
     "output_type": "execute_result"
    }
   ],
   "source": [
    "matrix = [[1,2,3,4],[5,6,7,8],[9,10,11,12]]\n",
    "Sorted_Matrix_Search(matrix,3)"
   ]
  }
 ],
 "metadata": {
  "kernelspec": {
   "display_name": "Python 3",
   "language": "python",
   "name": "python3"
  },
  "language_info": {
   "codemirror_mode": {
    "name": "ipython",
    "version": 3
   },
   "file_extension": ".py",
   "mimetype": "text/x-python",
   "name": "python",
   "nbconvert_exporter": "python",
   "pygments_lexer": "ipython3",
   "version": "3.6.4"
  }
 },
 "nbformat": 4,
 "nbformat_minor": 2
}
