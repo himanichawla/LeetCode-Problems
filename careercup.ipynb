{
 "cells": [
  {
   "cell_type": "markdown",
   "metadata": {},
   "source": [
    "You are given an array of strings. For example, [\"AB\", \"BC\", \"FOO\", \"ZA\", \"BAZ\"] \n",
    "- Output strings where you can get from one to the other using any ROT transformation. "
   ]
  },
  {
   "cell_type": "code",
   "execution_count": 11,
   "metadata": {},
   "outputs": [],
   "source": [
    "def ROT(arr):\n",
    "    dict = {}\n",
    "    for str in arr:\n",
    "        final = \"\"\n",
    "        for char in str:\n",
    "            if ord(char) in range(97,123): \n",
    "                final+=(chr(((ord(char)-96)%26)+97))\n",
    "            elif ord(char) in range(65,91):\n",
    "                final+=(chr(((ord(char)-64)%26)+65))\n",
    "        if final in arr:\n",
    "            dict[str] = final\n",
    "    return dict\n",
    "            \n",
    "        \n",
    "        \n",
    "        "
   ]
  },
  {
   "cell_type": "code",
   "execution_count": 12,
   "metadata": {
    "scrolled": false
   },
   "outputs": [
    {
     "data": {
      "text/plain": [
       "{'AB': 'BC', 'ZA': 'AB'}"
      ]
     },
     "execution_count": 12,
     "metadata": {},
     "output_type": "execute_result"
    }
   ],
   "source": [
    "arr = [\"AB\",\"BC\",\"FOO\",\"ZA\",\"BAZ\"]\n",
    "ROT(arr)"
   ]
  },
  {
   "cell_type": "markdown",
   "metadata": {},
   "source": [
    "Given two lowercase strings, S1 and S2, sort S1 in same order as S2. \n",
    "If a character in S1 doesn't exist in S2, put them at the end. If S1 is \"program\" and S2 is \"grapo\", then return \"grrapom\"."
   ]
  },
  {
   "cell_type": "code",
   "execution_count": 35,
   "metadata": {},
   "outputs": [],
   "source": [
    "def addstrings(str1,str2):\n",
    "    llist =[]\n",
    "    d = {}\n",
    "    for char in str1:\n",
    "        if char in d:\n",
    "            d[char] +=1\n",
    "        else:\n",
    "            d[char] = 1\n",
    "    for char in str2:\n",
    "        if char in d and d[char] >0:\n",
    "            llist.append(char)\n",
    "            d[char]-=1\n",
    "            if d[char] >0 :\n",
    "                llist.append(char)\n",
    "                d[char]-=1\n",
    "    for char in d:\n",
    "        if d[char] >0:\n",
    "            llist.append(char)\n",
    "    return \"\".join(llist)\n",
    "            \n",
    "  \n",
    "            "
   ]
  },
  {
   "cell_type": "code",
   "execution_count": 36,
   "metadata": {},
   "outputs": [
    {
     "data": {
      "text/plain": [
       "'grrapom'"
      ]
     },
     "execution_count": 36,
     "metadata": {},
     "output_type": "execute_result"
    }
   ],
   "source": [
    "addstrings(\"program\",\"grapo\")"
   ]
  },
  {
   "cell_type": "markdown",
   "metadata": {},
   "source": [
    "Print all numbers satisfying the expression 2^i * 5^i (where i, j are integers i >= 0 and j >= 0) in increasing order up to a given bound N. \n",
    "2^i stands for power(2, i)."
   ]
  },
  {
   "cell_type": "code",
   "execution_count": null,
   "metadata": {},
   "outputs": [],
   "source": []
  },
  {
   "cell_type": "markdown",
   "metadata": {},
   "source": [
    "comparison of two strings if they are the same, use o(1) space \n",
    "abc \\ b is equal to ab \n",
    "abc \\ ca equals abcA \n"
   ]
  },
  {
   "cell_type": "code",
   "execution_count": 38,
   "metadata": {},
   "outputs": [],
   "source": [
    "def compare(str1,str2):\n",
    "    stack = []\n",
    "    for i in range(0,len(str1)-2):\n",
    "        if (str1[i] == '\\\\' and str1[i+1] == 'b'):\n",
    "            stack.pop()\n",
    "        elif (str1[i] == '\\\\' and str1[i+1] == 'c'):\n",
    "              stack.append(str[i+2].upper())\n",
    "        else:\n",
    "              stack.append(str[i])\n",
    "    return stack\n",
    "            "
   ]
  },
  {
   "cell_type": "code",
   "execution_count": 40,
   "metadata": {
    "scrolled": false
   },
   "outputs": [
    {
     "ename": "TypeError",
     "evalue": "'type' object is not subscriptable",
     "output_type": "error",
     "traceback": [
      "\u001b[1;31m---------------------------------------------------------------------------\u001b[0m",
      "\u001b[1;31mTypeError\u001b[0m                                 Traceback (most recent call last)",
      "\u001b[1;32m<ipython-input-40-0d96956aa771>\u001b[0m in \u001b[0;36m<module>\u001b[1;34m()\u001b[0m\n\u001b[1;32m----> 1\u001b[1;33m \u001b[0mcompare\u001b[0m\u001b[1;33m(\u001b[0m\u001b[1;34m\"abc\\b\"\u001b[0m\u001b[1;33m,\u001b[0m\u001b[1;34m\"ab\"\u001b[0m\u001b[1;33m)\u001b[0m\u001b[1;33m\u001b[0m\u001b[0m\n\u001b[0m",
      "\u001b[1;32m<ipython-input-38-e53e949b29fa>\u001b[0m in \u001b[0;36mcompare\u001b[1;34m(str1, str2)\u001b[0m\n\u001b[0;32m      7\u001b[0m               \u001b[0mstack\u001b[0m\u001b[1;33m.\u001b[0m\u001b[0mappend\u001b[0m\u001b[1;33m(\u001b[0m\u001b[0mstr\u001b[0m\u001b[1;33m[\u001b[0m\u001b[0mi\u001b[0m\u001b[1;33m+\u001b[0m\u001b[1;36m2\u001b[0m\u001b[1;33m]\u001b[0m\u001b[1;33m.\u001b[0m\u001b[0mupper\u001b[0m\u001b[1;33m(\u001b[0m\u001b[1;33m)\u001b[0m\u001b[1;33m)\u001b[0m\u001b[1;33m\u001b[0m\u001b[0m\n\u001b[0;32m      8\u001b[0m         \u001b[1;32melse\u001b[0m\u001b[1;33m:\u001b[0m\u001b[1;33m\u001b[0m\u001b[0m\n\u001b[1;32m----> 9\u001b[1;33m               \u001b[0mstack\u001b[0m\u001b[1;33m.\u001b[0m\u001b[0mappend\u001b[0m\u001b[1;33m(\u001b[0m\u001b[0mstr\u001b[0m\u001b[1;33m[\u001b[0m\u001b[0mi\u001b[0m\u001b[1;33m]\u001b[0m\u001b[1;33m)\u001b[0m\u001b[1;33m\u001b[0m\u001b[0m\n\u001b[0m\u001b[0;32m     10\u001b[0m     \u001b[1;32mreturn\u001b[0m \u001b[0mstack\u001b[0m\u001b[1;33m\u001b[0m\u001b[0m\n\u001b[0;32m     11\u001b[0m \u001b[1;33m\u001b[0m\u001b[0m\n",
      "\u001b[1;31mTypeError\u001b[0m: 'type' object is not subscriptable"
     ]
    }
   ],
   "source": [
    "compare(\"abc\\b\",\"ab\")"
   ]
  },
  {
   "cell_type": "markdown",
   "metadata": {},
   "source": [
    "convert Prefix to Postfix using recursion \n",
    "+ * A B / C D -> A B * C D / +"
   ]
  },
  {
   "cell_type": "code",
   "execution_count": 47,
   "metadata": {},
   "outputs": [],
   "source": [
    "def PrefixToPostfix(exp):\n",
    "    stack =[]\n",
    "    operator = [\"+\",\"-\",\"*\",\"/\",\"^\"]\n",
    "    for num in exp[::-1]:\n",
    "        if num not in operator:\n",
    "            stack.append(num)\n",
    "        else:\n",
    "            temp1 = stack.pop()\n",
    "            temp2 = stack.pop()\n",
    "            stack.append(temp1 + temp2 + num)\n",
    "    return stack.pop()\n",
    "        "
   ]
  },
  {
   "cell_type": "code",
   "execution_count": 48,
   "metadata": {
    "scrolled": true
   },
   "outputs": [
    {
     "data": {
      "text/plain": [
       "'AB*CD/+'"
      ]
     },
     "execution_count": 48,
     "metadata": {},
     "output_type": "execute_result"
    }
   ],
   "source": [
    "PrefixToPostfix(\"+*AB/CD\")"
   ]
  },
  {
   "cell_type": "markdown",
   "metadata": {},
   "source": [
    "A city represented by a rectangular matrix is divided into plot of lands, and the cost of each plot is known. Find the largest rectangular area of land we can buy, within a budget B. "
   ]
  },
  {
   "cell_type": "markdown",
   "metadata": {},
   "source": [
    "\n",
    "DP Problem. Given the length and width of a matrix, get the number of paths from bottom-left to bottom right. \n",
    "You may only walk into those 3 directions ➡ (right) ↗ (upper-right) ↘ (lower-right) at each point. \n",
    "Follow-up: optimize 2d DP to 1d DP of linear extra space. \n",
    "Follow-up: what if some cells are blocked \n"
   ]
  }
 ],
 "metadata": {
  "kernelspec": {
   "display_name": "Python 3",
   "language": "python",
   "name": "python3"
  },
  "language_info": {
   "codemirror_mode": {
    "name": "ipython",
    "version": 3
   },
   "file_extension": ".py",
   "mimetype": "text/x-python",
   "name": "python",
   "nbconvert_exporter": "python",
   "pygments_lexer": "ipython3",
   "version": "3.6.4"
  }
 },
 "nbformat": 4,
 "nbformat_minor": 2
}
