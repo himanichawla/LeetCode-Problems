{
 "cells": [
  {
   "cell_type": "markdown",
   "metadata": {},
   "source": [
    "BFS and DFS traversal of graph:\n",
    "complexity O(V+E)"
   ]
  },
  {
   "cell_type": "code",
   "execution_count": 32,
   "metadata": {},
   "outputs": [],
   "source": [
    "class graph:\n",
    "    def __init__(self):\n",
    "        self.graph = {}\n",
    "    def addedge(self,u,v):\n",
    "        if u in self.graph:\n",
    "            self.graph[u].append(v)\n",
    "        else:\n",
    "            self.graph[u] = [v]\n",
    "        return self.graph\n",
    "    def BFS(self,s):\n",
    "        visited = [0] * len(self.graph)\n",
    "        queue = []\n",
    "        queue.append(s)\n",
    "        visited[s] = 1\n",
    "        while(len(queue) >0):\n",
    "            top = queue.pop(0)\n",
    "            print (top)\n",
    "            for i in self.graph[top]:\n",
    "                if visited[i] == 0:\n",
    "                    queue.append(i)\n",
    "                    visited[i] = 1\n",
    "    def DFSutil(self,s,visited):\n",
    "#         visited = [0] * len(self.graph)\n",
    "        visited[s] = 1\n",
    "        print(s)\n",
    "        for i in self.graph[s]:\n",
    "            if visited[i]==0:\n",
    "                self.DFSutil(i,visited)\n",
    "    def DFS(self,s):\n",
    "        visited = [0] * len(self.graph)\n",
    "        self.DFSutil(s,visited)\n",
    "        \n",
    "    "
   ]
  },
  {
   "cell_type": "code",
   "execution_count": 33,
   "metadata": {
    "scrolled": false
   },
   "outputs": [
    {
     "name": "stdout",
     "output_type": "stream",
     "text": [
      "2\n",
      "0\n",
      "1\n",
      "3\n"
     ]
    }
   ],
   "source": [
    "g = graph()\n",
    "g.addedge(0, 1)\n",
    "g.addedge(0, 2)\n",
    "g.addedge(1, 2)\n",
    "g.addedge(2, 0)\n",
    "g.addedge(2, 3)\n",
    "g.addedge(3, 3)\n",
    "g.DFS(2)"
   ]
  },
  {
   "cell_type": "markdown",
   "metadata": {},
   "source": [
    "Topological Sort: opological sorting for Directed Acyclic Graph (DAG) is a linear ordering of vertices such that for every directed edge uv, vertex u comes before v in the ordering. Topological Sorting for a graph is not possible if the graph is not a DAG.\n",
    "Time Complexity: The above algorithm is simply DFS with an extra stack. So time complexity is same as DFS which is O(V+E)."
   ]
  },
  {
   "cell_type": "code",
   "execution_count": 6,
   "metadata": {},
   "outputs": [],
   "source": [
    "class graph:\n",
    "    def __init__(self,V):\n",
    "        self.V = V\n",
    "        self.graph = {}\n",
    "    def addedge(self,u,v):\n",
    "        if u in self.graph:\n",
    "            self.graph[u].append(v)\n",
    "        else:\n",
    "            self.graph[u] = [v]\n",
    "        return self.graph\n",
    "    \n",
    "    def topologicalsortutil(self,v,visited,stack):\n",
    "        visited[v] = 1\n",
    "        if v in self.graph:\n",
    "            for i in self.graph[v]:\n",
    "                if visited[i]==0:\n",
    "                    self.topologicalsortutil(i,visited,stack)\n",
    "        print(\"v\",v)\n",
    "        stack.insert(0,v)\n",
    "    def topologicalsort(self):\n",
    "        visited = [0] * self.V\n",
    "        stack = []\n",
    "        for i in range(self.V):\n",
    "            print (i)\n",
    "            if visited[i]==0:\n",
    "                self.topologicalsortutil(i,visited,stack)\n",
    "        print(stack)\n",
    "    def findparent(self,parent,i):\n",
    "        if parent[i] == -1:\n",
    "            return i\n",
    "        else:\n",
    "            return self.findparent(parent,parent[i])\n",
    "    def union(self,parent,x,y):\n",
    "        x_parent = self.findparent(parent,x)\n",
    "        y_parent = self.findparent(parent,y)\n",
    "        parent[x_parent] = y_parent\n",
    "            \n",
    "    def unionfind(self):\n",
    "        parent = [-1] * self.V\n",
    "        for i in self.graph:\n",
    "            for j in self.graph[i]:\n",
    "                x = self.findparent(parent,i)\n",
    "                y = self.findparent(parent,j)\n",
    "                if x==y:\n",
    "                    return \"Cyclic\"\n",
    "                self.union(parent,x,y)\n",
    "                \n",
    "        \n",
    "        \n",
    "        "
   ]
  },
  {
   "cell_type": "code",
   "execution_count": 7,
   "metadata": {
    "scrolled": false
   },
   "outputs": [
    {
     "name": "stdout",
     "output_type": "stream",
     "text": [
      "0\n",
      "v 2\n",
      "v 1\n",
      "v 0\n",
      "1\n",
      "2\n",
      "[0, 1, 2]\n"
     ]
    },
    {
     "data": {
      "text/plain": [
       "'Cyclic'"
      ]
     },
     "execution_count": 7,
     "metadata": {},
     "output_type": "execute_result"
    }
   ],
   "source": [
    "g = graph(3)\n",
    "g.addedge(0, 1)\n",
    "g.addedge(1, 2)\n",
    "g.addedge(2, 0)\n",
    "g.topologicalsort()\n",
    "g.unionfind()"
   ]
  },
  {
   "cell_type": "markdown",
   "metadata": {},
   "source": [
    "Kruskal’s Minimum Spanning Tree Algorithm\n",
    "Time Complexity: O(ElogE) or O(ElogV). Sorting of edges takes O(ELogE) time. After sorting, we iterate through all edges and apply find-union algorithm. The find and union operations can take atmost O(LogV) time. So overall complexity is O(ELogE + ELogV) time. The value of E can be atmost O(V2), so O(LogV) are O(LogE) same. Therefore, overall time complexity is O(ElogE) or O(ElogV)"
   ]
  },
  {
   "cell_type": "code",
   "execution_count": null,
   "metadata": {},
   "outputs": [],
   "source": [
    "class graph:\n",
    "    def __init__(self,V):\n",
    "        self.V = V\n",
    "        self.graph = []\n",
    "    def addedge(self,u,v,w):\n",
    "        self.graph.append([u,v,w])\n",
    "    \n",
    "        return self.graph\n",
    "    def findparent(self,parent,i):\n",
    "        if parent[i]==-1:\n",
    "            return i\n",
    "        else:\n",
    "            return self.findparent(parent,parent[i])\n",
    "    def union(self,parent,x,y):\n",
    "        x_parent = self.findparent(parent,x)\n",
    "        y_parent = self.findparent(parent,y)\n",
    "        parent[x_parent] = y_parent\n",
    "    def kruskal(self):\n",
    "        result = []\n",
    "        i,e =0,0\n",
    "        self.graph =  sorted(self.graph,key=lambda item: item[2])\n",
    "        parent = [-1] * self.V\n",
    "        while e < self.V-1:\n",
    "            u,v,w = self.graph[i]\n",
    "            i+=1\n",
    "            x = self.findparent(parent,u)\n",
    "            y = self.findparent(parent,v)\n",
    "            if x!=y:\n",
    "                result.append([u,v,w])\n",
    "                e+=1\n",
    "                self.union(parent,x,y)\n",
    "        return result\n",
    "                \n",
    "        \n",
    "        \n",
    "        "
   ]
  },
  {
   "cell_type": "code",
   "execution_count": 19,
   "metadata": {},
   "outputs": [
    {
     "data": {
      "text/plain": [
       "[[2, 3, 4], [0, 3, 5], [0, 1, 10]]"
      ]
     },
     "execution_count": 19,
     "metadata": {},
     "output_type": "execute_result"
    }
   ],
   "source": [
    "g = graph(4)\n",
    "g.addedge(0, 1, 10)\n",
    "g.addedge(0, 2, 6)\n",
    "g.addedge(0, 3, 5)\n",
    "g.addedge(1, 3, 15)\n",
    "g.addedge(2, 3, 4)\n",
    "g.kruskal()"
   ]
  },
  {
   "cell_type": "markdown",
   "metadata": {},
   "source": [
    "Prim’s Minimum Spanning Tree (MST)"
   ]
  },
  {
   "cell_type": "code",
   "execution_count": 21,
   "metadata": {},
   "outputs": [],
   "source": [
    "class Graph:\n",
    "    def __init__(self,v):\n",
    "        self.v = v\n",
    "        self.graph ={}\n",
    "    def minkey(self,key,mst):\n",
    "        minm = float('inf')\n",
    "        min_index =0\n",
    "        for i in range(self.v):\n",
    "            if key[i] < minm and (i not in mst):\n",
    "                minm = key[i]\n",
    "                min_index = i\n",
    "        return min_index\n",
    "    def prim(self):\n",
    "        mst = []\n",
    "        parent = [None] * self.v\n",
    "        key = [float('inf')] * self.v\n",
    "        key[0] =0\n",
    "        mst.append(0)\n",
    "        parent[0] = -1\n",
    "        while(len(mst) < self.v):\n",
    "            i = self.minkey(key,mst)\n",
    "            mst.append(i)\n",
    "            for j in range(self.v):\n",
    "                if self.graph[i][j] > 0 and (j not in mst) and key[j] > self.graph[i][j]:\n",
    "                    key[j] = self.graph[i][j]\n",
    "                    parent[j] = i\n",
    "        for i in range(1,self.v):\n",
    "            print (parent[i],\"-\",i,\"\\t\",self.graph[i][ parent[i] ])\n",
    "            \n",
    "            \n",
    "        \n",
    "        \n"
   ]
  },
  {
   "cell_type": "code",
   "execution_count": 22,
   "metadata": {
    "scrolled": true
   },
   "outputs": [
    {
     "name": "stdout",
     "output_type": "stream",
     "text": [
      "0 - 1 \t 2\n",
      "1 - 2 \t 3\n",
      "0 - 3 \t 6\n",
      "1 - 4 \t 5\n"
     ]
    }
   ],
   "source": [
    "g= Graph(5)\n",
    "g.graph = [ [0, 2, 0, 6, 0],\n",
    "             [2, 0, 3, 8, 5],\n",
    "             [0, 3, 0, 0, 7],\n",
    "             [6, 8, 0, 0, 9],\n",
    "             [0, 5, 7, 9, 0],\n",
    "           ]\n",
    " \n",
    "g.prim()"
   ]
  },
  {
   "cell_type": "markdown",
   "metadata": {},
   "source": [
    "(Dijkstra’s shortest path algorithm)"
   ]
  },
  {
   "cell_type": "code",
   "execution_count": null,
   "metadata": {},
   "outputs": [],
   "source": []
  }
 ],
 "metadata": {
  "kernelspec": {
   "display_name": "Python 3",
   "language": "python",
   "name": "python3"
  },
  "language_info": {
   "codemirror_mode": {
    "name": "ipython",
    "version": 3
   },
   "file_extension": ".py",
   "mimetype": "text/x-python",
   "name": "python",
   "nbconvert_exporter": "python",
   "pygments_lexer": "ipython3",
   "version": "3.6.4"
  }
 },
 "nbformat": 4,
 "nbformat_minor": 2
}
