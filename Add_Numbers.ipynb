{
 "cells": [
  {
   "cell_type": "code",
   "execution_count": 1,
   "metadata": {},
   "outputs": [],
   "source": [
    "import sys\n",
    "import re\n",
    "#Definition for singly-linked list.\n",
    "class ListNode(object):\n",
    "    def __init__(self, x):\n",
    "        self.val = x\n",
    "        self.next = None\n"
   ]
  },
  {
   "cell_type": "code",
   "execution_count": 3,
   "metadata": {},
   "outputs": [],
   "source": [
    "class Solution(object):\n",
    "    def addTwoNumbers(self, l1, l2):\n",
    "        value,carry = 0,0\n",
    "        newHead = ListNode(0)\n",
    "        p1=l1\n",
    "        p2=l2\n",
    "        p3=newHead\n",
    "        while(p1!=null or p2!=null):\n",
    "            if(p1!=null):\n",
    "                value+=p1.val\n",
    "                p1=p1.next\n",
    "            if(p2!=null):\n",
    "                value +=p2.val\n",
    "                p2=p2.next\n",
    "            p3.next = ListNode(value%10)\n",
    "            p3=p3.next\n",
    "            carry = value/10\n",
    "        if(carry==1):\n",
    "            newHead = ListNode(1)\n",
    "        return newHead.next\n",
    "    \n",
    "            \n",
    "        \n",
    "            \n",
    "        "
   ]
  },
  {
   "cell_type": "code",
   "execution_count": null,
   "metadata": {},
   "outputs": [],
   "source": []
  }
 ],
 "metadata": {
  "kernelspec": {
   "display_name": "Python 3",
   "language": "python",
   "name": "python3"
  },
  "language_info": {
   "codemirror_mode": {
    "name": "ipython",
    "version": 3
   },
   "file_extension": ".py",
   "mimetype": "text/x-python",
   "name": "python",
   "nbconvert_exporter": "python",
   "pygments_lexer": "ipython3",
   "version": "3.6.4"
  }
 },
 "nbformat": 4,
 "nbformat_minor": 2
}
