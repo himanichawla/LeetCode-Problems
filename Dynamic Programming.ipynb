{
 "cells": [
  {
   "cell_type": "code",
   "execution_count": 10,
   "metadata": {},
   "outputs": [],
   "source": [
    "# Longest Increasing subequence\n",
    "def LIS(arr):\n",
    "    n = len(arr)\n",
    "    lis = [1] * n\n",
    "    for i in range(1,n):\n",
    "        for j in range(0,i):\n",
    "            if arr[i] > arr[j] and lis[i] < lis[j]+1:\n",
    "                lis[i] = lis[j] +1\n",
    "    print (\"lis\", lis)\n",
    "    maximum = 0\n",
    "    for i in range(n):\n",
    "        maximum = max(maximum,lis[i])\n",
    "    return maximum\n",
    "    "
   ]
  },
  {
   "cell_type": "code",
   "execution_count": 11,
   "metadata": {
    "scrolled": true
   },
   "outputs": [
    {
     "name": "stdout",
     "output_type": "stream",
     "text": [
      "lis [1, 2, 1, 3, 2, 4, 4, 5]\n"
     ]
    },
    {
     "data": {
      "text/plain": [
       "5"
      ]
     },
     "execution_count": 11,
     "metadata": {},
     "output_type": "execute_result"
    }
   ],
   "source": [
    "arr = [10, 22, 9, 33, 21, 50, 41, 60]\n",
    "LIS(arr)"
   ]
  },
  {
   "cell_type": "code",
   "execution_count": 33,
   "metadata": {},
   "outputs": [],
   "source": [
    "# Longest Common Subsequence\n",
    "def LCS(str1,str2):\n",
    "    m = len(str1)\n",
    "    n = len(str2)\n",
    "    lcs = [[None] * (n+1) for i in range(m+1)]\n",
    "    for i in range(m+1):\n",
    "        for j in range(n+1):\n",
    "            if i==0 or j==0:\n",
    "                lcs[i][j] =0\n",
    "            elif str1[i-1] == str2[j-1]:\n",
    "                lcs[i][j] = lcs[i-1][j-1]+1\n",
    "            else:\n",
    "                \n",
    "                lcs[i][j] = max(lcs[i-1][j],lcs[i][j-1])\n",
    "    return lcs[m][n]\n",
    "    "
   ]
  },
  {
   "cell_type": "code",
   "execution_count": 39,
   "metadata": {},
   "outputs": [],
   "source": [
    "def lcs1(str1,str2,m,n):\n",
    "    if m==0 or n==0:\n",
    "        return 0\n",
    "    elif str1[m-1] ==str2[n-1]:\n",
    "        return lcs1(str1,str2,m-1,n-1) +1\n",
    "    else:\n",
    "        return max(lcs1(str1,str2,m,n-1),lcs1(str1,str2,m-1,n))\n",
    "    "
   ]
  },
  {
   "cell_type": "code",
   "execution_count": 41,
   "metadata": {},
   "outputs": [
    {
     "data": {
      "text/plain": [
       "4"
      ]
     },
     "execution_count": 41,
     "metadata": {},
     "output_type": "execute_result"
    }
   ],
   "source": [
    "X = \"AGGTAB\"\n",
    "Y = \"GXTXAYB\"\n",
    "lcs1(X, Y,len(X),len(Y))"
   ]
  }
 ],
 "metadata": {
  "kernelspec": {
   "display_name": "Python 3",
   "language": "python",
   "name": "python3"
  },
  "language_info": {
   "codemirror_mode": {
    "name": "ipython",
    "version": 3
   },
   "file_extension": ".py",
   "mimetype": "text/x-python",
   "name": "python",
   "nbconvert_exporter": "python",
   "pygments_lexer": "ipython3",
   "version": "3.6.4"
  }
 },
 "nbformat": 4,
 "nbformat_minor": 2
}
