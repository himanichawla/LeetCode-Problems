{
 "cells": [
  {
   "cell_type": "code",
   "execution_count": 1,
   "metadata": {},
   "outputs": [],
   "source": [
    "class tree:\n",
    "    def __init__(self,data):\n",
    "        self.data = data\n",
    "        self.left = None\n",
    "        self.right = None\n",
    "def iterative_preorder(root):\n",
    "    if(root ==None):\n",
    "        return None\n",
    "    stack = []\n",
    "    while True:\n",
    "        while(root is not None):\n",
    "            print(root.data)\n",
    "            stack.append(root)\n",
    "            root = root.left\n",
    "        if(len(stack)==0):\n",
    "            break\n",
    "        root = stack.pop()\n",
    "        root = root.right\n",
    "    return\n",
    "\n",
    "def iterative_inorder(root):\n",
    "    if(root==None):\n",
    "        return None\n",
    "    stack =[]\n",
    "    \n",
    "    while True:\n",
    "        while(root is not None):\n",
    "            stack.append(root)\n",
    "            root = root.left\n",
    "        if(len(stack)==0):\n",
    "            break\n",
    "        root = stack.pop()\n",
    "        print(root.data)\n",
    "        root = root.right\n",
    "    return\n",
    "def peek(stack):\n",
    "    if len(stack) >0:\n",
    "        return stack[-1]\n",
    "    else:\n",
    "        return None\n",
    "    \n",
    "def iterative_postorder(root):\n",
    "    if(root==None):\n",
    "        return None\n",
    "    stack =[]\n",
    "    while True:\n",
    "        if (root is not None):\n",
    "            stack.append(root)\n",
    "            root = root.left\n",
    "        else:\n",
    "            if len(stack)==0:\n",
    "                break\n",
    "            else:\n",
    "                if peek(stack).right is None:\n",
    "                    root = stack.pop()\n",
    "                    print(root.data)\n",
    "                    if peek(stack).right ==root:\n",
    "                        print(stack.pop().data)\n",
    "                if(len(stack)>0):\n",
    "                    root = peek(stack).right\n",
    "                else:\n",
    "                    root = None\n",
    "                    \n",
    "def level_order(root):\n",
    "    if root is None:\n",
    "        return None\n",
    "    queue = []\n",
    "    queue.append(root)\n",
    "    while (len(queue) > 0):\n",
    "        temp = queue.pop(0)\n",
    "        print(temp.data)\n",
    "        if(temp.left is not None):\n",
    "            queue.append(temp.left)\n",
    "        if(temp.right is not None):\n",
    "            queue.append(temp.right)\n",
    "                    \n",
    "        \n",
    "    \n",
    "            \n",
    "    \n",
    "        \n",
    "        "
   ]
  },
  {
   "cell_type": "code",
   "execution_count": 6,
   "metadata": {},
   "outputs": [],
   "source": [
    "# import Math\n",
    "def insertion(root,key):\n",
    "    new_node = tree(key)\n",
    "    queue = []\n",
    "    if root is None:\n",
    "        root = new_node\n",
    "        return\n",
    "    queue.append(root)\n",
    "    while(len(queue) >0):\n",
    "        temp = queue.pop(0)\n",
    "        if(temp.left is not None):\n",
    "            queue.append(temp.left)\n",
    "        else:\n",
    "            temp.left = new_node\n",
    "            return\n",
    "        if(temp.right is not None):\n",
    "            queue.append(temp.right)\n",
    "        else:\n",
    "            temp.right = new_node\n",
    "            return\n",
    "\n",
    "def height(root):\n",
    "    if(root == None):\n",
    "        return 0\n",
    "    height = 0\n",
    "    queue =[]\n",
    "    queue.append(root)\n",
    "    print(\"root\", root.data)\n",
    "    queue.append(None)\n",
    "    while(len(queue) > 0):\n",
    "        temp = queue.pop(0)\n",
    "#         print(\"temp\",temp.data)\n",
    "        if temp is None:\n",
    "            height+=1\n",
    "            if(len(queue)!=0):\n",
    "                queue.append(None)\n",
    "        else:\n",
    "            if temp.left is not None:\n",
    "                queue.append(temp.left)\n",
    "            if temp.right is not None:\n",
    "                queue.append(temp.right)\n",
    "    return height\n",
    "\n",
    "def diameter(root,dia):\n",
    "    if(root == None):\n",
    "        return 0\n",
    "    left = diameter(root.left,dia)\n",
    "    right = diameter(root.right,dia)\n",
    "    if(left+right > dia):\n",
    "        dia = left+ right\n",
    "    return max(left,right)+ 1\n",
    "\n",
    "def deepest_node(root):\n",
    "    if(root==None):\n",
    "        return None\n",
    "    queue =[]\n",
    "    queue.append(root)\n",
    "    while(len(queue)>0):\n",
    "        temp = queue.pop(0)\n",
    "        if(temp.left is not None):\n",
    "            queue.append(temp.left)\n",
    "        if(temp.right is not None):\n",
    "            queue.append(temp.right)\n",
    "    return temp\n",
    "\n",
    "def deletion(root,key):\n",
    "    print(\"tree\")\n",
    "    level_order(root)\n",
    "    deep_node = deepest_node(root)\n",
    "    if(root==None):\n",
    "        return None\n",
    "    queue=[]\n",
    "    queue.append(root)\n",
    "    while(len(queue)>0):\n",
    "        temp = queue.pop(0)\n",
    "        if(temp.data==key):\n",
    "            key_node = temp\n",
    "            queue.insert(0,deep_node)\n",
    "            queue.append(key_node)\n",
    "        if(temp.left is not None):\n",
    "            queue.append(temp.left)\n",
    "        if(temp.right is not None):\n",
    "            queue.append(temp.right)\n",
    "#     deep_node,key_node = key_node,deep_node\n",
    "#     print(\"tree after\")\n",
    "#     level_order(root)\n",
    "#     deep_node1 = deepest_node(root)\n",
    "#     print(deep_node1.data)\n",
    "\n",
    "def find_level_with_max_sum(root):\n",
    "    if(root==None):\n",
    "        return None\n",
    "    level,maxlevel,currentsum,maxsum =0,0,0,0\n",
    "    queue =[]\n",
    "    queue.append(root)\n",
    "    queue.append(None)\n",
    "    while(len(queue) > 0):\n",
    "        temp = queue.pop(0)\n",
    "        if(temp==None):\n",
    "            print(\"levelsum\",currentsum)\n",
    "            if(currentsum > maxsum):\n",
    "                maxsum = currentsum\n",
    "                maxlevel = level\n",
    "            currentsum =0\n",
    "            if (len(queue)!=0):\n",
    "                queue.append(None)\n",
    "                level+=1\n",
    "        else:\n",
    "            currentsum += temp.data\n",
    "            if(temp.left is not None):\n",
    "                queue.append(temp.left)\n",
    "            if(temp.right is not None):\n",
    "                queue.append(temp.right)\n",
    "    return maxlevel,maxsum\n",
    "\n",
    "def print_paths(root):\n",
    "    path=[]\n",
    "    printpathrec(root,path,0)\n",
    "def printarray(arr,len):\n",
    "    for i in arr[0 : len]:\n",
    "        print(i,\" \",end=\"\")\n",
    "    print()\n",
    "    \n",
    "def printpathrec(root,path,pathlen):\n",
    "    if(root==None):\n",
    "        return\n",
    "    if pathlen < len(path):\n",
    "        path[pathlen] = root.data\n",
    "    else:\n",
    "        path.append(root.data)\n",
    "#         print (\"path\",path)\n",
    "    pathlen = pathlen+1\n",
    "    if(root.left is None and root.right is None):\n",
    "        printarray(path,pathlen)\n",
    "    else:\n",
    "        printpathrec(root.left,path,pathlen)\n",
    "        printpathrec(root.right,path,pathlen)\n",
    "        \n",
    "\n",
    "            \n",
    "                \n",
    "        \n",
    "    \n",
    "    \n",
    "    \n",
    "    \n",
    "    "
   ]
  },
  {
   "cell_type": "code",
   "execution_count": 7,
   "metadata": {},
   "outputs": [],
   "source": [
    "def hasPathsum(root,sum):\n",
    "    if(root == None):\n",
    "        return sum==0\n",
    "    else:\n",
    "        subsum = sum - root.data\n",
    "        return hasPathsum(root.left,subsum) or hasPathsum(root.right,subsum)\n",
    "def mirror(root):\n",
    "    if root:\n",
    "        mirror(root.left)\n",
    "        mirror(root.right)\n",
    "        root.left, root.right = root.right, root.left\n",
    "    return root"
   ]
  },
  {
   "cell_type": "code",
   "execution_count": 8,
   "metadata": {
    "scrolled": true
   },
   "outputs": [
    {
     "name": "stdout",
     "output_type": "stream",
     "text": [
      "inserting 9 in tree\n",
      "10\n",
      "8\n",
      "2\n",
      "3\n",
      "5\n",
      "2\n",
      "9\n",
      "root 10\n",
      "diameter\n",
      "deepest node\n",
      "levelsum 10\n",
      "levelsum 10\n",
      "levelsum 19\n",
      "print_paths\n",
      "10  8  3  \n",
      "10  8  5  \n",
      "10  2  2  \n",
      "10  2  9  \n",
      "mirror\n",
      "10\n",
      "2\n",
      "8\n",
      "9\n",
      "2\n",
      "5\n",
      "3\n"
     ]
    }
   ],
   "source": [
    "root = tree(10)\n",
    "root.left = tree(8)\n",
    "root.right = tree(2)\n",
    "root.left.left = tree(3)\n",
    "root.left.right = tree(5)\n",
    "\n",
    "root.right.left = tree(2)\n",
    "# print(\"preorder\")\n",
    "# iterative_preorder(root)\n",
    "# print(\"inorder\")\n",
    "# iterative_inorder(root)\n",
    "# print(\"postorder\")\n",
    "# iterative_postorder(root)\n",
    "# print (\"level order\")\n",
    "# level_order(root)\n",
    "print(\"inserting 9 in tree\")\n",
    "insertion(root,9)\n",
    "level_order(root)\n",
    "height(root)\n",
    "print(\"diameter\")\n",
    "diameter(root,0)\n",
    "print(\"deepest node\")\n",
    "deepest_node(root)\n",
    "# deletion(root,3)\n",
    "find_level_with_max_sum(root)\n",
    "print(\"print_paths\")\n",
    "print_paths(root)\n",
    "hasPathsum(root,15)\n",
    "root_new = mirror(root)\n",
    "print(\"mirror\")\n",
    "level_order(root_new)"
   ]
  },
  {
   "cell_type": "code",
   "execution_count": 9,
   "metadata": {},
   "outputs": [],
   "source": [
    "def search(inorder,start,end,data):\n",
    "    for i in range(start, end+1):\n",
    "        if inorder[i] == data:\n",
    "            return i\n",
    "\n",
    "def buildBinaryTree(inorder,preorder,instart,inend):\n",
    "#     static preindex=0\n",
    "    if(instart> inend):\n",
    "        return None\n",
    "#     print(\"start,end\", instart, inend)\n",
    "    new_node = tree(preorder[tree.preindex])\n",
    "#     print(\"new_node\", new_node.data)\n",
    "    tree.preindex+=1\n",
    "#     print(\"preindex\", tree.preindex)\n",
    "    if(instart==inend):\n",
    "        return new_node\n",
    "    index_root = search(inorder, instart, inend, new_node.data)\n",
    "#     print(\"index_root\", index_root)\n",
    "    new_node.left = buildBinaryTree(inorder,preorder,instart,index_root-1)\n",
    "    new_node.right = buildBinaryTree(inorder,preorder,index_root+1,inend)\n",
    "    return new_node\n",
    "\n",
    "def print_ancestors(root,node):\n",
    "    if(root==None):\n",
    "        return 0\n",
    "    if(root.data==node):\n",
    "        return True\n",
    "    if(print_ancestors(root.left,node) or print_ancestors(root.right,node)):\n",
    "        print (root.data)\n",
    "        return True\n",
    "    return False\n",
    "\n",
    "        "
   ]
  },
  {
   "cell_type": "code",
   "execution_count": 10,
   "metadata": {},
   "outputs": [
    {
     "name": "stdout",
     "output_type": "stream",
     "text": [
      "A\n",
      "B\n",
      "C\n",
      "D\n",
      "E\n",
      "F\n",
      "level order\n",
      "10\n",
      "2\n",
      "8\n",
      "9\n",
      "2\n",
      "5\n",
      "3\n",
      "ancestors\n",
      "8\n",
      "10\n"
     ]
    },
    {
     "data": {
      "text/plain": [
       "True"
      ]
     },
     "execution_count": 10,
     "metadata": {},
     "output_type": "execute_result"
    }
   ],
   "source": [
    "inorder = ['D', 'B', 'E', 'A', 'F', 'C']\n",
    "preorder = ['A', 'B', 'D', 'E', 'C', 'F']\n",
    "tree.preindex =0\n",
    "new_node=buildBinaryTree(inorder,preorder,0,len(inorder)-1)\n",
    "level_order(new_node)\n",
    "print(\"level order\")\n",
    "level_order(root)\n",
    "print(\"ancestors\")\n",
    "print_ancestors(root,3)"
   ]
  },
  {
   "cell_type": "code",
   "execution_count": 11,
   "metadata": {},
   "outputs": [],
   "source": [
    "def LCA(A, B, root):\n",
    "    if(root is None):\n",
    "        return root\n",
    "    if(root.data is A or root.data is B):\n",
    "        return root\n",
    "    left = LCA(A,B,root.left)\n",
    "    right = LCA(A,B,root.right)\n",
    "    if(left and right):\n",
    "        return root\n",
    "    else:\n",
    "        return left if left else right"
   ]
  },
  {
   "cell_type": "code",
   "execution_count": 12,
   "metadata": {
    "scrolled": true
   },
   "outputs": [
    {
     "name": "stdout",
     "output_type": "stream",
     "text": [
      "10\n",
      "8\n",
      "2\n",
      "3\n",
      "5\n",
      "6\n",
      "lca\n",
      "10\n"
     ]
    }
   ],
   "source": [
    "root = tree(10)\n",
    "root.left = tree(8)\n",
    "root.right = tree(2)\n",
    "root.left.left = tree(3)\n",
    "root.left.right = tree(5)\n",
    "root.right.left = tree(6)\n",
    "level_order(root)\n",
    "lca = LCA(3,6,root)\n",
    "print(\"lca\")\n",
    "print(lca.data)"
   ]
  },
  {
   "cell_type": "code",
   "execution_count": 13,
   "metadata": {},
   "outputs": [],
   "source": [
    "def zigzag(root):\n",
    "    left_to_right = 1\n",
    "    if root is None:\n",
    "        return\n",
    "    current= []\n",
    "    next_level=[]\n",
    "    current.append(root)\n",
    "    while (len(current) > 0):\n",
    "        temp = current.pop()\n",
    "        if temp:\n",
    "            print(temp.data)\n",
    "            if left_to_right:\n",
    "                if temp.left:\n",
    "                    next_level.append(temp.left)\n",
    "                if temp.right:\n",
    "                    next_level.append(temp.right)\n",
    "            else:\n",
    "                if temp.right:\n",
    "                    next_level.append(temp.right)\n",
    "                if temp.left:\n",
    "                    next_level.append(temp.left)\n",
    "        if(len(current)==0):\n",
    "            left_to_right = not left_to_right\n",
    "            current, next_level = next_level, current\n",
    "            \n",
    "                    \n",
    "                    "
   ]
  },
  {
   "cell_type": "code",
   "execution_count": 14,
   "metadata": {
    "scrolled": true
   },
   "outputs": [
    {
     "name": "stdout",
     "output_type": "stream",
     "text": [
      "level order\n",
      "10\n",
      "8\n",
      "2\n",
      "3\n",
      "5\n",
      "6\n",
      "zigzag\n",
      "10\n",
      "2\n",
      "8\n",
      "3\n",
      "5\n",
      "6\n"
     ]
    }
   ],
   "source": [
    "print(\"level order\")\n",
    "level_order(root)\n",
    "print(\"zigzag\")\n",
    "zigzag(root)"
   ]
  },
  {
   "cell_type": "code",
   "execution_count": 15,
   "metadata": {},
   "outputs": [],
   "source": [
    "def vertical_sum(root,col):\n",
    "#     dict ={}\n",
    "    print(\"column\",col)\n",
    "    if(root==None):\n",
    "        return\n",
    "    vertical_sum(root.left,col-1)\n",
    "    if col in tree.dict:\n",
    "        tree.dict[col] = tree.dict[col]+ root.data\n",
    "        \n",
    "    else:\n",
    "        tree.dict[col] = root.data\n",
    "    vertical_sum(root.right,col+1)\n",
    "    return tree.dict\n",
    "    \n",
    "    \n",
    "    "
   ]
  },
  {
   "cell_type": "code",
   "execution_count": 16,
   "metadata": {
    "scrolled": true
   },
   "outputs": [
    {
     "name": "stdout",
     "output_type": "stream",
     "text": [
      "10\n",
      "8\n",
      "2\n",
      "3\n",
      "5\n",
      "6\n",
      "column 0\n",
      "column -1\n",
      "column -2\n",
      "column -3\n",
      "column -1\n",
      "column 0\n",
      "column -1\n",
      "column 1\n",
      "column 1\n",
      "column 0\n",
      "column -1\n",
      "column 1\n",
      "column 2\n"
     ]
    },
    {
     "data": {
      "text/plain": [
       "{-2: 3, -1: 8, 0: 21, 1: 2}"
      ]
     },
     "execution_count": 16,
     "metadata": {},
     "output_type": "execute_result"
    }
   ],
   "source": [
    "level_order(root)\n",
    "tree.dict = {}\n",
    "vertical_sum(root,0)"
   ]
  },
  {
   "cell_type": "code",
   "execution_count": 17,
   "metadata": {},
   "outputs": [],
   "source": [
    "class tree2:\n",
    "    def __init__(self,root):\n",
    "        self.data = root\n",
    "        self.left = None\n",
    "        self.right = None \n",
    "        self.nextsibling = None\n",
    "def fill_next_sibling(root):\n",
    "    if(root is None):\n",
    "        return\n",
    "    if(root.left):\n",
    "        root.left.nextsibling = root.right\n",
    "    if (root.right):\n",
    "        if(root.nextsibling is not None):\n",
    "            root.right.nextsibling =root.nextsibling.left\n",
    "        else:\n",
    "            root.right.nextsibling = None\n",
    "    fill_next_sibling(root.left)\n",
    "    fill_next_sibling(root.right)\n",
    "    \n",
    "def print_allnodes(root):\n",
    "    if(root== None):\n",
    "        return\n",
    "    else:\n",
    "#         print(root.data)\n",
    "        if(root.nextsibling is not None):\n",
    "            print(root.data, root.nextsibling.data)\n",
    "        else:\n",
    "            print(root.data)\n",
    "        print_allnodes(root.left)\n",
    "        print_allnodes(root.right)\n",
    "        "
   ]
  },
  {
   "cell_type": "code",
   "execution_count": 18,
   "metadata": {},
   "outputs": [
    {
     "name": "stdout",
     "output_type": "stream",
     "text": [
      "10\n",
      "8\n",
      "2\n",
      "3\n",
      "5\n",
      "6\n",
      "10\n",
      "8 2\n",
      "3 5\n",
      "5 6\n",
      "2\n",
      "6\n"
     ]
    }
   ],
   "source": [
    "root = tree2(10)\n",
    "root.left = tree2(8)\n",
    "root.right = tree2(2)\n",
    "root.left.left = tree2(3)\n",
    "root.left.right = tree2(5)\n",
    "root.right.left = tree2(6)\n",
    "level_order(root)\n",
    "fill_next_sibling(root)\n",
    "print_allnodes(root)"
   ]
  },
  {
   "cell_type": "code",
   "execution_count": 19,
   "metadata": {},
   "outputs": [],
   "source": [
    "def buildExpTree(postfix):\n",
    "    stack =[]\n",
    "    ops = [\"+\",\"-\",\"/\",\"*\",\"^\"]\n",
    "    for i in postfix:\n",
    "        node = tree(i)\n",
    "        if i in ops:\n",
    "            t1 = stack.pop()\n",
    "            t2 = stack.pop()\n",
    "            node.left = t2\n",
    "            node.right = t1\n",
    "        stack.append(node)\n",
    "    return stack.pop()   \n",
    "        "
   ]
  },
  {
   "cell_type": "raw",
   "metadata": {},
   "source": [
    "postfix = \"ab+ef*g*-\"\n",
    "newroot = buildExpTree(postfix)\n",
    "level_order(newroot)"
   ]
  },
  {
   "cell_type": "code",
   "execution_count": 23,
   "metadata": {},
   "outputs": [],
   "source": [
    "def inorder2(root):\n",
    "    if(root== None or (root.left ==None and root.right ==None)):\n",
    "        return root\n",
    "    stack =[]\n",
    "    stack.append(root)\n",
    "    while(root.left is not None):\n",
    "        root = root.left\n",
    "        stack.append(root)\n",
    "    while(stack):\n",
    "        root = stack.pop()\n",
    "        print(root.data)\n",
    "        if(root.right is not None):\n",
    "            root= root.right\n",
    "            stack.append(root)\n",
    "            while(root.left is not None):\n",
    "                root = root.left\n",
    "                stack.append(root)\n"
   ]
  },
  {
   "cell_type": "code",
   "execution_count": 24,
   "metadata": {},
   "outputs": [
    {
     "name": "stdout",
     "output_type": "stream",
     "text": [
      "3\n",
      "8\n",
      "5\n",
      "10\n",
      "6\n",
      "2\n"
     ]
    }
   ],
   "source": [
    "root = tree(10)\n",
    "root.left = tree(8)\n",
    "root.right = tree(2)\n",
    "root.left.left = tree(3)\n",
    "root.left.right = tree(5)\n",
    "root.right.left = tree(6)\n",
    "inorder2(root)"
   ]
  },
  {
   "cell_type": "markdown",
   "metadata": {},
   "source": [
    "print tree boundary"
   ]
  },
  {
   "cell_type": "code",
   "execution_count": 25,
   "metadata": {},
   "outputs": [],
   "source": [
    "class Node:\n",
    "    def __init__(self,data):\n",
    "        self.data = data\n",
    "        self.left = None\n",
    "        self.right = None\n",
    "def printleaves(root):\n",
    "    if root:\n",
    "        printleaves(root.left)\n",
    "        if(root.left == None and root.right == None):\n",
    "            print(root.data)\n",
    "        printleaves(root.right)\n",
    "def printleftboundary(root):\n",
    "    if(root):\n",
    "        if(root.left):\n",
    "            \n",
    "            print(root.data)\n",
    "            printleftboundary(root.left)\n",
    "        elif(root.right):\n",
    "            \n",
    "            print(root.data)\n",
    "            printleftboundary(root.right)\n",
    "def printrightboundary(root):\n",
    "    if(root):\n",
    "        if(root.right):\n",
    "            \n",
    "            print(root.data)\n",
    "            printrightboundary(root.right)\n",
    "        elif(root.left):\n",
    "            \n",
    "            print(root.data)\n",
    "            printrightboundary(root.left)\n",
    "def printboundary(root):\n",
    "    if(root):\n",
    "        print(root.data)\n",
    "        printleftboundary(root.left)\n",
    "        printleaves(root.left)\n",
    "        printleaves(root.right)\n",
    "        printrightboundary(root.right)\n",
    "    \n",
    "        \n",
    "    \n",
    "\n",
    "    "
   ]
  },
  {
   "cell_type": "code",
   "execution_count": 26,
   "metadata": {
    "scrolled": true
   },
   "outputs": [
    {
     "name": "stdout",
     "output_type": "stream",
     "text": [
      "20\n",
      "8\n",
      "4\n",
      "10\n",
      "14\n",
      "25\n",
      "22\n"
     ]
    }
   ],
   "source": [
    "root = Node(20)\n",
    "root.left = Node(8)\n",
    "root.left.left = Node(4)\n",
    "root.left.right = Node(12)\n",
    "root.left.right.left =  Node(10)\n",
    "root.left.right.right = Node(14)\n",
    "root.right = Node(22)\n",
    "root.right.right = Node(25)\n",
    "printboundary(root)"
   ]
  },
  {
   "cell_type": "markdown",
   "metadata": {},
   "source": [
    "maximum depth or height of binary tree"
   ]
  },
  {
   "cell_type": "code",
   "execution_count": 27,
   "metadata": {},
   "outputs": [],
   "source": [
    "def maxdepth(root):\n",
    "    if (root==None):\n",
    "        return 0\n",
    "    leftdepth = maxdepth(root.left)\n",
    "    rightdepth = maxdepth(root.right)\n",
    "    if(leftdepth >= rightdepth):\n",
    "        return leftdepth +1\n",
    "    if(rightdepth > leftdepth):\n",
    "        return rightdepth +1\n",
    "    \n",
    "    "
   ]
  },
  {
   "cell_type": "code",
   "execution_count": 28,
   "metadata": {},
   "outputs": [
    {
     "data": {
      "text/plain": [
       "4"
      ]
     },
     "execution_count": 28,
     "metadata": {},
     "output_type": "execute_result"
    }
   ],
   "source": [
    "maxdepth(root)"
   ]
  },
  {
   "cell_type": "markdown",
   "metadata": {},
   "source": [
    "minimum depth of binary tree \n",
    "The idea is to traverse the given Binary Tree. For every node, check if it is a leaf node. If yes, then return 1. If not leaf node then if left subtree is NULL, then recur for right subtree. And if right subtree is NULL, then recur for left subtree. If both left and right subtrees are not NULL, then take the minimum of two heights."
   ]
  },
  {
   "cell_type": "code",
   "execution_count": 29,
   "metadata": {},
   "outputs": [],
   "source": [
    "def mindepth(root):\n",
    "    if (root==None):\n",
    "        return 0\n",
    "    if (root.left ==None and root.right == None):\n",
    "        return 1\n",
    "    elif (root.left == None and root.right != None):\n",
    "        return mindepth(root.right) +1\n",
    "    elif(root.left != None and root.right== None):\n",
    "        return mindepth(root.left) + 1\n",
    "    else:\n",
    "        ldepth = mindepth(root.left)\n",
    "        rdepth = mindepth(root.right)\n",
    "        return min(ldepth,rdepth) +1 "
   ]
  },
  {
   "cell_type": "code",
   "execution_count": 30,
   "metadata": {},
   "outputs": [
    {
     "data": {
      "text/plain": [
       "3"
      ]
     },
     "execution_count": 30,
     "metadata": {},
     "output_type": "execute_result"
    }
   ],
   "source": [
    "mindepth(root)"
   ]
  },
  {
   "cell_type": "markdown",
   "metadata": {},
   "source": [
    "maximum path sum"
   ]
  },
  {
   "cell_type": "markdown",
   "metadata": {},
   "source": [
    "Invert Binary Tree"
   ]
  },
  {
   "cell_type": "code",
   "execution_count": 31,
   "metadata": {},
   "outputs": [],
   "source": [
    "def inverttree(root):\n",
    "    if (root == None):\n",
    "        return None\n",
    "    else:\n",
    "#         temp = root.left\n",
    "#         root.left = root.right\n",
    "#         root.right = temp\n",
    "        root.left , root.right = root.right, root.left\n",
    "        if (root.left!= None):\n",
    "            inverttree(root.left)\n",
    "        if(root.right!=None):\n",
    "            inverttree(root.right)\n",
    "def inOrder(node):\n",
    "    if (node == None):\n",
    "        return\n",
    "    inOrder(node.left)\n",
    "    print(node.data)\n",
    "    inOrder(node.right)\n",
    "    "
   ]
  },
  {
   "cell_type": "code",
   "execution_count": 32,
   "metadata": {
    "scrolled": true
   },
   "outputs": [
    {
     "name": "stdout",
     "output_type": "stream",
     "text": [
      "4\n",
      "8\n",
      "10\n",
      "12\n",
      "14\n",
      "20\n",
      "22\n",
      "25\n",
      "after inverting tree\n",
      "25\n",
      "22\n",
      "20\n",
      "14\n",
      "12\n",
      "10\n",
      "8\n",
      "4\n"
     ]
    }
   ],
   "source": [
    "# root = node(1)\n",
    "# root.left = node(2)\n",
    "# root.right= node(3)\n",
    "# root.left.left = node(4)\n",
    "# root.left.right = node(5)\n",
    "inOrder(root)\n",
    "inverttree(root)\n",
    "print(\"after inverting tree\")\n",
    "inOrder(root)"
   ]
  },
  {
   "cell_type": "code",
   "execution_count": 33,
   "metadata": {},
   "outputs": [],
   "source": [
    "def iterativeinverse(root):\n",
    "    queue = []\n",
    "    if (root != None):\n",
    "        queue.append(root)\n",
    "    while(len(queue) >0):\n",
    "        p = queue.pop(0)\n",
    "        if (p.left != None):\n",
    "            queue.append(p.left)\n",
    "        if (p.right!= None):\n",
    "            queue.append(p.right)\n",
    "        p.left ,p.right = p.right , p.left\n",
    "    return root"
   ]
  },
  {
   "cell_type": "code",
   "execution_count": 34,
   "metadata": {
    "scrolled": true
   },
   "outputs": [
    {
     "name": "stdout",
     "output_type": "stream",
     "text": [
      "25\n",
      "22\n",
      "20\n",
      "14\n",
      "12\n",
      "10\n",
      "8\n",
      "4\n",
      "after inverting tree\n",
      "4\n",
      "8\n",
      "10\n",
      "12\n",
      "14\n",
      "20\n",
      "22\n",
      "25\n"
     ]
    }
   ],
   "source": [
    "inOrder(root)\n",
    "iterativeinverse(root)\n",
    "print(\"after inverting tree\")\n",
    "inOrder(root)"
   ]
  },
  {
   "cell_type": "markdown",
   "metadata": {},
   "source": [
    "LCA of binary tree"
   ]
  },
  {
   "cell_type": "code",
   "execution_count": 47,
   "metadata": {},
   "outputs": [],
   "source": [
    "def lca(root,n1,n2):\n",
    "    if(root == None):\n",
    "        return None\n",
    "    if(root.data== n1 or root.data ==n2):\n",
    "        return root\n",
    "    leftlca = lca(root.left,n1,n2)\n",
    "    rightlca = lca(root.right,n1,n2)\n",
    "    if (leftlca!= None):\n",
    "        print(\"left\", leftlca.data)\n",
    "    else:\n",
    "        print(\"left\", leftlca)\n",
    "    if (rightlca!= None):\n",
    "        print(\"right\", rightlca.data)\n",
    "    else:\n",
    "        print(\"right\", rightlca)\n",
    "    if leftlca and rightlca:\n",
    "        return root\n",
    "    return leftlca if leftlca!= None else rightlca\n",
    "        "
   ]
  },
  {
   "cell_type": "code",
   "execution_count": 48,
   "metadata": {
    "scrolled": true
   },
   "outputs": [
    {
     "name": "stdout",
     "output_type": "stream",
     "text": [
      "left None\n",
      "right None\n",
      "left 4\n",
      "right None\n",
      "left None\n",
      "right None\n",
      "left 6\n",
      "right None\n",
      "left 4\n",
      "right 6\n"
     ]
    },
    {
     "data": {
      "text/plain": [
       "1"
      ]
     },
     "execution_count": 48,
     "metadata": {},
     "output_type": "execute_result"
    }
   ],
   "source": [
    "root = Node(1)\n",
    "root.left = Node(2)\n",
    "root.right = Node(3)\n",
    "root.left.left = Node(4)\n",
    "root.left.right = Node(5)\n",
    "root.right.left = Node(6)\n",
    "root.right.right = Node(7)\n",
    "lca(root,4,6).data"
   ]
  },
  {
   "cell_type": "markdown",
   "metadata": {},
   "source": [
    "check if binary tree is symmetric i.e, it is mirror image of itself"
   ]
  },
  {
   "cell_type": "code",
   "execution_count": 49,
   "metadata": {},
   "outputs": [],
   "source": [
    "def issymmetric(root):\n",
    "    return ismirror(root,root)\n",
    "def ismirror(root1,root2):\n",
    "    if(root1==None and root2==None):\n",
    "        return True\n",
    "    if(root1==None or root2 == None):\n",
    "        return False\n",
    "    if(root1.data == root2.data):\n",
    "        return ismirror(root1.left, root2.right) and ismirror(root1.right,root2.left)\n",
    "    return False"
   ]
  },
  {
   "cell_type": "code",
   "execution_count": 54,
   "metadata": {
    "scrolled": true
   },
   "outputs": [
    {
     "data": {
      "text/plain": [
       "False"
      ]
     },
     "execution_count": 54,
     "metadata": {},
     "output_type": "execute_result"
    }
   ],
   "source": [
    "root = Node(1)\n",
    "root.left = Node(2)\n",
    "root.right = Node(3)\n",
    "root.left.left = Node(4)\n",
    "root.left.right = Node(5)\n",
    "root.right.left = Node(6)\n",
    "root.right.right = Node(7)\n",
    "issymmetric(root)"
   ]
  },
  {
   "cell_type": "markdown",
   "metadata": {},
   "source": [
    "Given a binary tree , imagine yourself standing on the right side of it, return the values of the nodes you can  see ordered from top to bottom ."
   ]
  },
  {
   "cell_type": "code",
   "execution_count": 64,
   "metadata": {},
   "outputs": [],
   "source": [
    "def rightview(root,level,maxlevel):\n",
    "    if root is None:\n",
    "        return \n",
    "    if(level > maxlevel[0]):\n",
    "        print(root.data)\n",
    "        maxlevel[0] = level\n",
    "    print (\"maxlevel\", maxlevel)\n",
    "    rightview(root.right,level+1,maxlevel)\n",
    "    rightview(root.left,level+1,maxlevel)\n",
    "    "
   ]
  },
  {
   "cell_type": "code",
   "execution_count": 65,
   "metadata": {
    "scrolled": true
   },
   "outputs": [
    {
     "name": "stdout",
     "output_type": "stream",
     "text": [
      "1\n",
      "maxlevel [1]\n",
      "3\n",
      "maxlevel [2]\n",
      "7\n",
      "maxlevel [3]\n",
      "maxlevel [3]\n",
      "maxlevel [3]\n",
      "maxlevel [3]\n",
      "maxlevel [3]\n"
     ]
    }
   ],
   "source": [
    "maxlevel = [0]\n",
    "rightview(root,1,maxlevel)"
   ]
  },
  {
   "cell_type": "markdown",
   "metadata": {},
   "source": [
    "construct BST from preorder"
   ]
  }
 ],
 "metadata": {
  "kernelspec": {
   "display_name": "Python 3",
   "language": "python",
   "name": "python3"
  },
  "language_info": {
   "codemirror_mode": {
    "name": "ipython",
    "version": 3
   },
   "file_extension": ".py",
   "mimetype": "text/x-python",
   "name": "python",
   "nbconvert_exporter": "python",
   "pygments_lexer": "ipython3",
   "version": "3.6.4"
  }
 },
 "nbformat": 4,
 "nbformat_minor": 2
}
