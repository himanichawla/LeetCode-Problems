{
 "cells": [
  {
   "cell_type": "code",
   "execution_count": 54,
   "metadata": {},
   "outputs": [
    {
     "name": "stdout",
     "output_type": "stream",
     "text": [
      "stack: ['1']\n",
      "stack: ['1', '2']\n",
      "stack: ['1', '2', '3']\n",
      "operator: *\n",
      "operator: +\n",
      "stack: [7, '5']\n",
      "operator: -\n"
     ]
    },
    {
     "data": {
      "text/plain": [
       "2"
      ]
     },
     "execution_count": 54,
     "metadata": {},
     "output_type": "execute_result"
    }
   ],
   "source": [
    "class stack:\n",
    "    def __init__(self,capacity):\n",
    "        self.top= -1\n",
    "        self.capacity = capacity\n",
    "        self.array=[]\n",
    "        self.output= []\n",
    "        self.ops = {\"+\": (lambda x,y: x+y), \"-\": (lambda x,y: x-y), \"*\": (lambda x,y: x*y),\"/\":(lambda x,y: x//y),\"^\":(lambda x,y: x^y)}\n",
    "        self.precedence = {'+':1,'-':1,'*':2,'/':2,'^':3}\n",
    "    def isempty(self):\n",
    "        if(self.top ==-1):\n",
    "            return True\n",
    "        else:\n",
    "            return False\n",
    "    def peek(self):\n",
    "        return self.array[-1]\n",
    "    def pop(self):\n",
    "        if not self.isempty():\n",
    "            self.top -=1\n",
    "            return self.array.pop()\n",
    "    def push(self,x):\n",
    "        self.top+=1\n",
    "        return self.array.append(x)\n",
    "    def isoperand(self,x):\n",
    "        return x.isalpha()\n",
    "    def isnumber(self,x):\n",
    "        return x.isdigit()\n",
    "    def notgreater(self,i):\n",
    "        try:\n",
    "            a = self.precedence.get(i)\n",
    "#         print(self.array[self.peek()])\n",
    "            print (self.peek())\n",
    "            b = self.precedence.get(self.peek())\n",
    "#             if b == None:\n",
    "#                 return False\n",
    "            if a <= b:\n",
    "                return True\n",
    "            else:\n",
    "                return False\n",
    "        except KeyError:\n",
    "            return False\n",
    "    def infix_to_postfix(self,exp):\n",
    "        for i in exp:\n",
    "            if self.isoperand(i):\n",
    "                self.output.append(i)\n",
    "                print(\"output0\",self.output)\n",
    "            elif i == \"(\":\n",
    "                self.push(i)\n",
    "            elif i == \")\":\n",
    "                print(\"i\",i)\n",
    "                while((not self.isempty()) and self.peek()!='('):\n",
    "                    print(\"a0\",self.peek())\n",
    "                    a =self.pop()\n",
    "                    print (\"a\" ,self.array)\n",
    "                    self.output.append(a)\n",
    "                    print(\"output1\",self.output)\n",
    "                if(not self.isempty() and self.peek()!='('):\n",
    "                    return -1\n",
    "                else:\n",
    "                    self.pop()\n",
    "            else:\n",
    "                print (\"i\", i)\n",
    "                while(not self.isempty() and self.array[-1] != '(' and self.notgreater(i)):\n",
    "                    self.output.append(self.pop())\n",
    "                    print(\"output3\",self.output)\n",
    "                self.push(i)\n",
    "        while not self.isempty():\n",
    "            self.output.append(self.pop())\n",
    "            print(\"output4\",self.output)\n",
    "        print (\"\".join(self.output))\n",
    "    def postfix_evaluation(self,exp):\n",
    "        for i in exp:\n",
    "            if self.isnumber(i):\n",
    "                self.push(i)\n",
    "                print(\"stack:\",self.array)\n",
    "            else:\n",
    "                print(\"operator:\",i)\n",
    "                a = self.pop()\n",
    "                b = self.pop()\n",
    "                temp = self.ops[i](int(b),int(a))\n",
    "                self.push(temp)\n",
    "        res = self.pop()\n",
    "        return res\n",
    "    \n",
    "#     def infix_evaluation(self,exp):\n",
    "#         operator = stack()\n",
    "#         operand = stack()\n",
    "#         for i in range(0,len(exp)-1):\n",
    "#             next = exp[i+1]\n",
    "#             if next.isdigit():\n",
    "#                 operand.push(next)\n",
    "#             else:\n",
    "#                 operator.push(next)\n",
    "    \n",
    "            \n",
    "    \n",
    "        \n",
    "exp = \"123*+5-\"\n",
    "obj = stack(len(exp))\n",
    "obj.postfix_evaluation(exp)\n",
    "# obj.infix_to_postfix(exp)\n",
    "       "
   ]
  },
  {
   "cell_type": "code",
   "execution_count": 61,
   "metadata": {
    "scrolled": true
   },
   "outputs": [
    {
     "name": "stdout",
     "output_type": "stream",
     "text": [
      "a b\n",
      "b c\n"
     ]
    }
   ],
   "source": [
    "exp = \"abc\"\n",
    "for i in range(0,len(exp)-1):\n",
    "    print(exp[i],exp[i+1])\n",
    "        "
   ]
  },
  {
   "cell_type": "code",
   "execution_count": null,
   "metadata": {},
   "outputs": [],
   "source": [
    "class twostacks:\n",
    "    def __init__(self,capacity):\n",
    "        self.capacity = capacity\n",
    "        self.array = [0] * capacity\n",
    "        self.top1=-1\n",
    "        self.top2= -1\n",
    "    def push1(self,x):\n",
    "        "
   ]
  }
 ],
 "metadata": {
  "kernelspec": {
   "display_name": "Python 3",
   "language": "python",
   "name": "python3"
  },
  "language_info": {
   "codemirror_mode": {
    "name": "ipython",
    "version": 3
   },
   "file_extension": ".py",
   "mimetype": "text/x-python",
   "name": "python",
   "nbconvert_exporter": "python",
   "pygments_lexer": "ipython3",
   "version": "3.6.4"
  }
 },
 "nbformat": 4,
 "nbformat_minor": 2
}
