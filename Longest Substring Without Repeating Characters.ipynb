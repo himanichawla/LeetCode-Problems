{
 "cells": [
  {
   "cell_type": "code",
   "execution_count": 22,
   "metadata": {},
   "outputs": [],
   "source": [
    "class Solution(object):\n",
    "    def lengthOfLongestSubstring(self,s):\n",
    "        Hashset = set()\n",
    "        start,end,ans =0,0,0\n",
    "        while start < len(s) and end < len(s):\n",
    "            if(s[end] not in Hashset):\n",
    "                Hashset.add(s[end])\n",
    "                ans = max(ans, end-start+1)\n",
    "                end+=1\n",
    "                \n",
    "            else:\n",
    "                Hashset.remove(s[start])\n",
    "                start +=1\n",
    "        return ans\n",
    "            "
   ]
  },
  {
   "cell_type": "code",
   "execution_count": 4,
   "metadata": {},
   "outputs": [
    {
     "name": "stdout",
     "output_type": "stream",
     "text": [
      "0 H\n",
      "1 i\n",
      "2 m\n",
      "3 a\n",
      "4 n\n",
      "5 i\n"
     ]
    }
   ],
   "source": [
    "s = \"Himani\"\n",
    "for i,c in enumerate(s):\n",
    "    print (i,c)"
   ]
  },
  {
   "cell_type": "code",
   "execution_count": 23,
   "metadata": {},
   "outputs": [
    {
     "data": {
      "text/plain": [
       "3"
      ]
     },
     "execution_count": 23,
     "metadata": {},
     "output_type": "execute_result"
    }
   ],
   "source": [
    "solution = Solution()\n",
    "str = \"abcabcbb\"\n",
    "solution.lengthOfLongestSubstring(str)\n"
   ]
  }
 ],
 "metadata": {
  "kernelspec": {
   "display_name": "Python 3",
   "language": "python",
   "name": "python3"
  },
  "language_info": {
   "codemirror_mode": {
    "name": "ipython",
    "version": 3
   },
   "file_extension": ".py",
   "mimetype": "text/x-python",
   "name": "python",
   "nbconvert_exporter": "python",
   "pygments_lexer": "ipython3",
   "version": "3.6.4"
  }
 },
 "nbformat": 4,
 "nbformat_minor": 2
}
