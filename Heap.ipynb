{
 "cells": [
  {
   "cell_type": "code",
   "execution_count": 59,
   "metadata": {},
   "outputs": [],
   "source": [
    "class heap:\n",
    "    def _init_(self,list,n):\n",
    "        self.length = n\n",
    "        self.heap = [0]*(n)\n",
    "        self.last = 0\n",
    "        for x in list:\n",
    "            self.heap_insert(x)\n",
    "        print(\"heap:\",self.heap)\n",
    "        print(\"extract min now\")\n",
    "        print (self.extract_min())\n",
    "        \n",
    "        return self.heap\n",
    "    \n",
    "    def heap_insert(self,x):\n",
    "        self.last +=1\n",
    "        if self.last< self.length:\n",
    "            self.heap[self.last] = x\n",
    "        else:\n",
    "            self.length+=1\n",
    "            self.heap+=[0]\n",
    "            self.heap[self.last] = x\n",
    "        self.bubble_up()\n",
    "    \n",
    "    def bubble_up(self):\n",
    "        current = self.last\n",
    "        parent = self.last//2\n",
    "        while(self.heap[parent] > self.heap[current] and  parent >0):\n",
    "            self.heap[parent],self.heap[current] = self.heap[current],self.heap[parent]\n",
    "            current = parent\n",
    "            parent = current//2\n",
    "    def extract_min(self):\n",
    "        min = self.heap[1]\n",
    "        self.length-=1\n",
    "        self.heap[1],self.heap[self.last] = self.heap[self.last],self.heap[1]\n",
    "        self.last-=1\n",
    "        self.heap.pop(-1)\n",
    "        self.bubble_down()\n",
    "        return self.heap\n",
    "    \n",
    "    def bubble_down(self):\n",
    "#         largest = 1\n",
    "#         left = 2*largest+1\n",
    "#         right = 2*largest+2\n",
    "#         while True:\n",
    "#             if (left < self.length and arr[i] < arr[left]):\n",
    "#                 largest = left\n",
    "#             if(right < self.length and arr[i] < arr[right]):\n",
    "#                 largest = right \n",
    "#             if largest != i:\n",
    "#                 arr[i],arr[largest]= arr[largest],arr[i]\n",
    "# #             bubble_down(arr,n,largest)\n",
    "        current =1\n",
    "        child1= 2*current\n",
    "        child2 = (2*current)+1\n",
    "        while True: \n",
    "            if (child1 <= self.length and child2 <= self.length and current <=(self.length//2)and self.heap[child1] < self.heap[current] and\n",
    "              self.heap[child2] < self.heap[current] ):\n",
    "                ind=min((child1,child2),key=lambda x:self.heap[x])\n",
    "                print(\"ind\", ind ,self.heap[ind])\n",
    "                print(\"current\", current ,self.heap[current])\n",
    "                self.heap[current],self.heap[ind]=self.heap[ind],self.heap[current]\n",
    "                current=ind\n",
    "                child1=current*2\n",
    "                child2=(current*2)+1\n",
    "            elif(child1 == self.length and current <(self.length//2)and self.heap[child1] < self.heap[current]):\n",
    "                print(\"second condition\")\n",
    "                self.heap[current],self.heap[child1]= self.heap[child1],self.heap[current]\n",
    "            else:\n",
    "                break\n",
    "                \n",
    "                \n",
    "                \n",
    "        \n",
    "        \n",
    "        \n",
    "\n",
    "            \n",
    "\n",
    "        "
   ]
  },
  {
   "cell_type": "code",
   "execution_count": 60,
   "metadata": {
    "scrolled": true
   },
   "outputs": [
    {
     "name": "stdout",
     "output_type": "stream",
     "text": [
      "heap: [0, 1, 2, 5, 6]\n",
      "extract min now\n",
      "ind 2 2\n",
      "current 1 6\n",
      "[0, 2, 6, 5]\n",
      "[0, 2, 6, 5]\n"
     ]
    }
   ],
   "source": [
    "h = heap()\n",
    "arr = [2,6,5,1]\n",
    "h1 = h._init_(arr,4)\n",
    "print (h1)\n"
   ]
  },
  {
   "cell_type": "code",
   "execution_count": 21,
   "metadata": {},
   "outputs": [
    {
     "data": {
      "text/plain": [
       "2"
      ]
     },
     "execution_count": 21,
     "metadata": {},
     "output_type": "execute_result"
    }
   ],
   "source": [
    "heap= [1,4,34,6]\n",
    "child1 = 2 \n",
    "child2 = 3\n",
    "ind=max((child1,child2),key=lambda x:heap[x])\n",
    "ind"
   ]
  }
 ],
 "metadata": {
  "kernelspec": {
   "display_name": "Python 3",
   "language": "python",
   "name": "python3"
  },
  "language_info": {
   "codemirror_mode": {
    "name": "ipython",
    "version": 3
   },
   "file_extension": ".py",
   "mimetype": "text/x-python",
   "name": "python",
   "nbconvert_exporter": "python",
   "pygments_lexer": "ipython3",
   "version": "3.6.4"
  }
 },
 "nbformat": 4,
 "nbformat_minor": 2
}
